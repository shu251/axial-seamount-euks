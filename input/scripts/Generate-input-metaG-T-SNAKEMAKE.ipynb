{
 "cells": [
  {
   "cell_type": "markdown",
   "metadata": {},
   "source": [
    "## Modify sample lists for axial seamount to apply the EukHeist program"
   ]
  },
  {
   "cell_type": "code",
   "execution_count": 1,
   "metadata": {},
   "outputs": [
    {
     "name": "stderr",
     "output_type": "stream",
     "text": [
      "\n",
      "Attaching package: ‘dplyr’\n",
      "\n",
      "The following objects are masked from ‘package:stats’:\n",
      "\n",
      "    filter, lag\n",
      "\n",
      "The following objects are masked from ‘package:base’:\n",
      "\n",
      "    intersect, setdiff, setequal, union\n",
      "\n"
     ]
    }
   ],
   "source": [
    "library(reshape2);library(dplyr)"
   ]
  },
  {
   "cell_type": "code",
   "execution_count": 2,
   "metadata": {},
   "outputs": [],
   "source": [
    "# Need to isolate ERR names as metaG and \n",
    "## metaT, so i can rearrange the file structure\n",
    "## on poseidon to run metagenomic work, etc.\n",
    "## At the same time, will assign the Assembly information\n",
    "## Within year and sample location will do that.\n",
    "## checking in with how the file structure is for current TARA metaG/T"
   ]
  },
  {
   "cell_type": "code",
   "execution_count": 3,
   "metadata": {},
   "outputs": [],
   "source": [
    "# Import the 3 separate PRJEB sample list files:\n",
    "axial2013 <- read.delim(\"PRJEB7866_axial2013.txt\")\n",
    "axial2014 <- read.delim(\"PRJEB12000_axial2014.txt\")\n",
    "axial2015 <- read.delim(\"PRJEB19456_axial2015.txt\")"
   ]
  },
  {
   "cell_type": "code",
   "execution_count": 4,
   "metadata": {},
   "outputs": [
    {
     "data": {
      "text/html": [
       "14"
      ],
      "text/latex": [
       "14"
      ],
      "text/markdown": [
       "14"
      ],
      "text/plain": [
       "[1] 14"
      ]
     },
     "metadata": {},
     "output_type": "display_data"
    },
    {
     "data": {
      "text/html": [
       "14"
      ],
      "text/latex": [
       "14"
      ],
      "text/markdown": [
       "14"
      ],
      "text/plain": [
       "[1] 14"
      ]
     },
     "metadata": {},
     "output_type": "display_data"
    },
    {
     "data": {
      "text/html": [
       "17"
      ],
      "text/latex": [
       "17"
      ],
      "text/markdown": [
       "17"
      ],
      "text/plain": [
       "[1] 17"
      ]
     },
     "metadata": {},
     "output_type": "display_data"
    }
   ],
   "source": [
    "length(colnames(axial2013))\n",
    "length(colnames(axial2014))\n",
    "length(colnames(axial2015)) # need to select the \n",
    "# columns in 13 and 14 from 15"
   ]
  },
  {
   "cell_type": "code",
   "execution_count": 5,
   "metadata": {},
   "outputs": [],
   "source": [
    "# Add year column for Assembly grouping later on\n",
    "axial2013$Year <- \"2013\"\n",
    "axial2014$Year <- \"2014\"\n",
    "axial2015$Year <- \"2015\""
   ]
  },
  {
   "cell_type": "code",
   "execution_count": 6,
   "metadata": {},
   "outputs": [
    {
     "name": "stderr",
     "output_type": "stream",
     "text": [
      "Warning message:\n",
      "“`lang()` is deprecated as of rlang 0.2.0.\n",
      "Please use `call2()` instead.\n",
      "This warning is displayed once per session.”Warning message:\n",
      "“`new_overscope()` is deprecated as of rlang 0.2.0.\n",
      "Please use `new_data_mask()` instead.\n",
      "This warning is displayed once per session.”Warning message:\n",
      "“`overscope_eval_next()` is deprecated as of rlang 0.2.0.\n",
      "Please use `eval_tidy()` with a data mask instead.\n",
      "This warning is displayed once per session.”"
     ]
    }
   ],
   "source": [
    "axial2015_n <- axial2015 %>% select(study_accession, sample_accession, experiment_accession, run_accession, scientific_name, library_name, nominal_length, library_source, read_count, study_title, fastq_bytes, fastq_md5, fastq_ftp, sample_alias, Year)"
   ]
  },
  {
   "cell_type": "code",
   "execution_count": 7,
   "metadata": {},
   "outputs": [
    {
     "data": {
      "text/html": [
       "15"
      ],
      "text/latex": [
       "15"
      ],
      "text/markdown": [
       "15"
      ],
      "text/plain": [
       "[1] 15"
      ]
     },
     "metadata": {},
     "output_type": "display_data"
    }
   ],
   "source": [
    "length(colnames(axial2015_n))"
   ]
  },
  {
   "cell_type": "code",
   "execution_count": 8,
   "metadata": {},
   "outputs": [],
   "source": [
    "axial_all <- rbind(axial2013, axial2014, axial2015_n)"
   ]
  },
  {
   "cell_type": "code",
   "execution_count": 9,
   "metadata": {
    "scrolled": true
   },
   "outputs": [
    {
     "data": {
      "text/html": [
       "<table>\n",
       "<thead><tr><th scope=col>study_accession</th><th scope=col>sample_accession</th><th scope=col>experiment_accession</th><th scope=col>run_accession</th><th scope=col>scientific_name</th><th scope=col>library_name</th><th scope=col>nominal_length</th><th scope=col>library_source</th><th scope=col>read_count</th><th scope=col>study_title</th><th scope=col>fastq_bytes</th><th scope=col>fastq_md5</th><th scope=col>fastq_ftp</th><th scope=col>sample_alias</th><th scope=col>Year</th></tr></thead>\n",
       "<tbody>\n",
       "\t<tr><td>PRJEB7866                                                                                                                            </td><td>SAMEA3143267                                                                                                                         </td><td>ERX639090                                                                                                                            </td><td>ERR694110                                                                                                                            </td><td>metagenome                                                                                                                           </td><td>FS891_Anemone_DNA                                                                                                                    </td><td>290                                                                                                                                  </td><td>METAGENOMIC                                                                                                                          </td><td>4000000                                                                                                                              </td><td>Metagenomes and metatranscriptomes from the diffuse hydrothermal vents of Axial Seamount from 2013                                   </td><td>351383192;354840024                                                                                                                  </td><td>89d9a8f98acb93f1c499877a695d974e;7de642fdf3a2b3aefe98f0b41d6fa5a3                                                                    </td><td>ftp.sra.ebi.ac.uk/vol1/fastq/ERR694/ERR694110/ERR694110_1.fastq.gz;ftp.sra.ebi.ac.uk/vol1/fastq/ERR694/ERR694110/ERR694110_2.fastq.gz</td><td>FS891_Anemone_DNA                                                                                                                    </td><td>2013                                                                                                                                 </td></tr>\n",
       "\t<tr><td>PRJEB7866                                                                                                                            </td><td>SAMEA3143267                                                                                                                         </td><td>ERX639091                                                                                                                            </td><td>ERR694111                                                                                                                            </td><td>metagenome                                                                                                                           </td><td>FS891_Anemone_DNA                                                                                                                    </td><td>290                                                                                                                                  </td><td>METAGENOMIC                                                                                                                          </td><td>4000000                                                                                                                              </td><td>Metagenomes and metatranscriptomes from the diffuse hydrothermal vents of Axial Seamount from 2013                                   </td><td>351056928;357128637                                                                                                                  </td><td>6b4c317b4e6f83c7dc6c87345aa343fc;e490709f39247b82438635b6fe0e9642                                                                    </td><td>ftp.sra.ebi.ac.uk/vol1/fastq/ERR694/ERR694111/ERR694111_1.fastq.gz;ftp.sra.ebi.ac.uk/vol1/fastq/ERR694/ERR694111/ERR694111_2.fastq.gz</td><td>FS891_Anemone_DNA                                                                                                                    </td><td>2013                                                                                                                                 </td></tr>\n",
       "\t<tr><td>PRJEB7866                                                                                                                            </td><td>SAMEA3143267                                                                                                                         </td><td>ERX639092                                                                                                                            </td><td>ERR694112                                                                                                                            </td><td>metagenome                                                                                                                           </td><td>FS891_Anemone_DNA                                                                                                                    </td><td>290                                                                                                                                  </td><td>METAGENOMIC                                                                                                                          </td><td>4000000                                                                                                                              </td><td>Metagenomes and metatranscriptomes from the diffuse hydrothermal vents of Axial Seamount from 2013                                   </td><td>350362583;356700610                                                                                                                  </td><td>0bdd3cfe0abc6b145ed6e8d19305e327;beb1be6dc2272ea52abe7c76c6b942a5                                                                    </td><td>ftp.sra.ebi.ac.uk/vol1/fastq/ERR694/ERR694112/ERR694112_1.fastq.gz;ftp.sra.ebi.ac.uk/vol1/fastq/ERR694/ERR694112/ERR694112_2.fastq.gz</td><td>FS891_Anemone_DNA                                                                                                                    </td><td>2013                                                                                                                                 </td></tr>\n",
       "\t<tr><td>PRJEB7866                                                                                                                            </td><td>SAMEA3143267                                                                                                                         </td><td>ERX639093                                                                                                                            </td><td>ERR694113                                                                                                                            </td><td>metagenome                                                                                                                           </td><td>FS891_Anemone_DNA                                                                                                                    </td><td>290                                                                                                                                  </td><td>METAGENOMIC                                                                                                                          </td><td>4000000                                                                                                                              </td><td>Metagenomes and metatranscriptomes from the diffuse hydrothermal vents of Axial Seamount from 2013                                   </td><td>344807262;350546090                                                                                                                  </td><td>7ae31365cb43b371c168bf9b8c0d6433;bfa9cd3537d96f9b7e3130a671126c00                                                                    </td><td>ftp.sra.ebi.ac.uk/vol1/fastq/ERR694/ERR694113/ERR694113_1.fastq.gz;ftp.sra.ebi.ac.uk/vol1/fastq/ERR694/ERR694113/ERR694113_2.fastq.gz</td><td>FS891_Anemone_DNA                                                                                                                    </td><td>2013                                                                                                                                 </td></tr>\n",
       "\t<tr><td>PRJEB7866                                                                                                                            </td><td>SAMEA3143267                                                                                                                         </td><td>ERX639094                                                                                                                            </td><td>ERR694114                                                                                                                            </td><td>metagenome                                                                                                                           </td><td>FS891_Anemone_DNA                                                                                                                    </td><td>290                                                                                                                                  </td><td>METAGENOMIC                                                                                                                          </td><td>4000000                                                                                                                              </td><td>Metagenomes and metatranscriptomes from the diffuse hydrothermal vents of Axial Seamount from 2013                                   </td><td>345995782;351214626                                                                                                                  </td><td>cc5cca8414c8e9353aa0ae38f9b06b3c;c35b5599f6af58455910ef7598b4ccc6                                                                    </td><td>ftp.sra.ebi.ac.uk/vol1/fastq/ERR694/ERR694114/ERR694114_1.fastq.gz;ftp.sra.ebi.ac.uk/vol1/fastq/ERR694/ERR694114/ERR694114_2.fastq.gz</td><td>FS891_Anemone_DNA                                                                                                                    </td><td>2013                                                                                                                                 </td></tr>\n",
       "\t<tr><td>PRJEB7866                                                                                                                            </td><td>SAMEA3143267                                                                                                                         </td><td>ERX639095                                                                                                                            </td><td>ERR694115                                                                                                                            </td><td>metagenome                                                                                                                           </td><td>FS891_Anemone_DNA                                                                                                                    </td><td>290                                                                                                                                  </td><td>METAGENOMIC                                                                                                                          </td><td>4000000                                                                                                                              </td><td>Metagenomes and metatranscriptomes from the diffuse hydrothermal vents of Axial Seamount from 2013                                   </td><td>350680705;357178495                                                                                                                  </td><td>0302bd73850529935d261002aaa3b8ec;1f64bf9b3d4f99aeb35c3d428904e468                                                                    </td><td>ftp.sra.ebi.ac.uk/vol1/fastq/ERR694/ERR694115/ERR694115_1.fastq.gz;ftp.sra.ebi.ac.uk/vol1/fastq/ERR694/ERR694115/ERR694115_2.fastq.gz</td><td>FS891_Anemone_DNA                                                                                                                    </td><td>2013                                                                                                                                 </td></tr>\n",
       "</tbody>\n",
       "</table>\n"
      ],
      "text/latex": [
       "\\begin{tabular}{r|lllllllllllllll}\n",
       " study\\_accession & sample\\_accession & experiment\\_accession & run\\_accession & scientific\\_name & library\\_name & nominal\\_length & library\\_source & read\\_count & study\\_title & fastq\\_bytes & fastq\\_md5 & fastq\\_ftp & sample\\_alias & Year\\\\\n",
       "\\hline\n",
       "\t PRJEB7866                                                                                                                                 & SAMEA3143267                                                                                                                              & ERX639090                                                                                                                                 & ERR694110                                                                                                                                 & metagenome                                                                                                                                & FS891\\_Anemone\\_DNA                                                                                                                     & 290                                                                                                                                       & METAGENOMIC                                                                                                                               & 4000000                                                                                                                                   & Metagenomes and metatranscriptomes from the diffuse hydrothermal vents of Axial Seamount from 2013                                        & 351383192;354840024                                                                                                                       & 89d9a8f98acb93f1c499877a695d974e;7de642fdf3a2b3aefe98f0b41d6fa5a3                                                                         & ftp.sra.ebi.ac.uk/vol1/fastq/ERR694/ERR694110/ERR694110\\_1.fastq.gz;ftp.sra.ebi.ac.uk/vol1/fastq/ERR694/ERR694110/ERR694110\\_2.fastq.gz & FS891\\_Anemone\\_DNA                                                                                                                     & 2013                                                                                                                                     \\\\\n",
       "\t PRJEB7866                                                                                                                                 & SAMEA3143267                                                                                                                              & ERX639091                                                                                                                                 & ERR694111                                                                                                                                 & metagenome                                                                                                                                & FS891\\_Anemone\\_DNA                                                                                                                     & 290                                                                                                                                       & METAGENOMIC                                                                                                                               & 4000000                                                                                                                                   & Metagenomes and metatranscriptomes from the diffuse hydrothermal vents of Axial Seamount from 2013                                        & 351056928;357128637                                                                                                                       & 6b4c317b4e6f83c7dc6c87345aa343fc;e490709f39247b82438635b6fe0e9642                                                                         & ftp.sra.ebi.ac.uk/vol1/fastq/ERR694/ERR694111/ERR694111\\_1.fastq.gz;ftp.sra.ebi.ac.uk/vol1/fastq/ERR694/ERR694111/ERR694111\\_2.fastq.gz & FS891\\_Anemone\\_DNA                                                                                                                     & 2013                                                                                                                                     \\\\\n",
       "\t PRJEB7866                                                                                                                                 & SAMEA3143267                                                                                                                              & ERX639092                                                                                                                                 & ERR694112                                                                                                                                 & metagenome                                                                                                                                & FS891\\_Anemone\\_DNA                                                                                                                     & 290                                                                                                                                       & METAGENOMIC                                                                                                                               & 4000000                                                                                                                                   & Metagenomes and metatranscriptomes from the diffuse hydrothermal vents of Axial Seamount from 2013                                        & 350362583;356700610                                                                                                                       & 0bdd3cfe0abc6b145ed6e8d19305e327;beb1be6dc2272ea52abe7c76c6b942a5                                                                         & ftp.sra.ebi.ac.uk/vol1/fastq/ERR694/ERR694112/ERR694112\\_1.fastq.gz;ftp.sra.ebi.ac.uk/vol1/fastq/ERR694/ERR694112/ERR694112\\_2.fastq.gz & FS891\\_Anemone\\_DNA                                                                                                                     & 2013                                                                                                                                     \\\\\n",
       "\t PRJEB7866                                                                                                                                 & SAMEA3143267                                                                                                                              & ERX639093                                                                                                                                 & ERR694113                                                                                                                                 & metagenome                                                                                                                                & FS891\\_Anemone\\_DNA                                                                                                                     & 290                                                                                                                                       & METAGENOMIC                                                                                                                               & 4000000                                                                                                                                   & Metagenomes and metatranscriptomes from the diffuse hydrothermal vents of Axial Seamount from 2013                                        & 344807262;350546090                                                                                                                       & 7ae31365cb43b371c168bf9b8c0d6433;bfa9cd3537d96f9b7e3130a671126c00                                                                         & ftp.sra.ebi.ac.uk/vol1/fastq/ERR694/ERR694113/ERR694113\\_1.fastq.gz;ftp.sra.ebi.ac.uk/vol1/fastq/ERR694/ERR694113/ERR694113\\_2.fastq.gz & FS891\\_Anemone\\_DNA                                                                                                                     & 2013                                                                                                                                     \\\\\n",
       "\t PRJEB7866                                                                                                                                 & SAMEA3143267                                                                                                                              & ERX639094                                                                                                                                 & ERR694114                                                                                                                                 & metagenome                                                                                                                                & FS891\\_Anemone\\_DNA                                                                                                                     & 290                                                                                                                                       & METAGENOMIC                                                                                                                               & 4000000                                                                                                                                   & Metagenomes and metatranscriptomes from the diffuse hydrothermal vents of Axial Seamount from 2013                                        & 345995782;351214626                                                                                                                       & cc5cca8414c8e9353aa0ae38f9b06b3c;c35b5599f6af58455910ef7598b4ccc6                                                                         & ftp.sra.ebi.ac.uk/vol1/fastq/ERR694/ERR694114/ERR694114\\_1.fastq.gz;ftp.sra.ebi.ac.uk/vol1/fastq/ERR694/ERR694114/ERR694114\\_2.fastq.gz & FS891\\_Anemone\\_DNA                                                                                                                     & 2013                                                                                                                                     \\\\\n",
       "\t PRJEB7866                                                                                                                                 & SAMEA3143267                                                                                                                              & ERX639095                                                                                                                                 & ERR694115                                                                                                                                 & metagenome                                                                                                                                & FS891\\_Anemone\\_DNA                                                                                                                     & 290                                                                                                                                       & METAGENOMIC                                                                                                                               & 4000000                                                                                                                                   & Metagenomes and metatranscriptomes from the diffuse hydrothermal vents of Axial Seamount from 2013                                        & 350680705;357178495                                                                                                                       & 0302bd73850529935d261002aaa3b8ec;1f64bf9b3d4f99aeb35c3d428904e468                                                                         & ftp.sra.ebi.ac.uk/vol1/fastq/ERR694/ERR694115/ERR694115\\_1.fastq.gz;ftp.sra.ebi.ac.uk/vol1/fastq/ERR694/ERR694115/ERR694115\\_2.fastq.gz & FS891\\_Anemone\\_DNA                                                                                                                     & 2013                                                                                                                                     \\\\\n",
       "\\end{tabular}\n"
      ],
      "text/markdown": [
       "\n",
       "study_accession | sample_accession | experiment_accession | run_accession | scientific_name | library_name | nominal_length | library_source | read_count | study_title | fastq_bytes | fastq_md5 | fastq_ftp | sample_alias | Year | \n",
       "|---|---|---|---|---|---|\n",
       "| PRJEB7866                                                                                                                             | SAMEA3143267                                                                                                                          | ERX639090                                                                                                                             | ERR694110                                                                                                                             | metagenome                                                                                                                            | FS891_Anemone_DNA                                                                                                                     | 290                                                                                                                                   | METAGENOMIC                                                                                                                           | 4000000                                                                                                                               | Metagenomes and metatranscriptomes from the diffuse hydrothermal vents of Axial Seamount from 2013                                    | 351383192;354840024                                                                                                                   | 89d9a8f98acb93f1c499877a695d974e;7de642fdf3a2b3aefe98f0b41d6fa5a3                                                                     | ftp.sra.ebi.ac.uk/vol1/fastq/ERR694/ERR694110/ERR694110_1.fastq.gz;ftp.sra.ebi.ac.uk/vol1/fastq/ERR694/ERR694110/ERR694110_2.fastq.gz | FS891_Anemone_DNA                                                                                                                     | 2013                                                                                                                                  | \n",
       "| PRJEB7866                                                                                                                             | SAMEA3143267                                                                                                                          | ERX639091                                                                                                                             | ERR694111                                                                                                                             | metagenome                                                                                                                            | FS891_Anemone_DNA                                                                                                                     | 290                                                                                                                                   | METAGENOMIC                                                                                                                           | 4000000                                                                                                                               | Metagenomes and metatranscriptomes from the diffuse hydrothermal vents of Axial Seamount from 2013                                    | 351056928;357128637                                                                                                                   | 6b4c317b4e6f83c7dc6c87345aa343fc;e490709f39247b82438635b6fe0e9642                                                                     | ftp.sra.ebi.ac.uk/vol1/fastq/ERR694/ERR694111/ERR694111_1.fastq.gz;ftp.sra.ebi.ac.uk/vol1/fastq/ERR694/ERR694111/ERR694111_2.fastq.gz | FS891_Anemone_DNA                                                                                                                     | 2013                                                                                                                                  | \n",
       "| PRJEB7866                                                                                                                             | SAMEA3143267                                                                                                                          | ERX639092                                                                                                                             | ERR694112                                                                                                                             | metagenome                                                                                                                            | FS891_Anemone_DNA                                                                                                                     | 290                                                                                                                                   | METAGENOMIC                                                                                                                           | 4000000                                                                                                                               | Metagenomes and metatranscriptomes from the diffuse hydrothermal vents of Axial Seamount from 2013                                    | 350362583;356700610                                                                                                                   | 0bdd3cfe0abc6b145ed6e8d19305e327;beb1be6dc2272ea52abe7c76c6b942a5                                                                     | ftp.sra.ebi.ac.uk/vol1/fastq/ERR694/ERR694112/ERR694112_1.fastq.gz;ftp.sra.ebi.ac.uk/vol1/fastq/ERR694/ERR694112/ERR694112_2.fastq.gz | FS891_Anemone_DNA                                                                                                                     | 2013                                                                                                                                  | \n",
       "| PRJEB7866                                                                                                                             | SAMEA3143267                                                                                                                          | ERX639093                                                                                                                             | ERR694113                                                                                                                             | metagenome                                                                                                                            | FS891_Anemone_DNA                                                                                                                     | 290                                                                                                                                   | METAGENOMIC                                                                                                                           | 4000000                                                                                                                               | Metagenomes and metatranscriptomes from the diffuse hydrothermal vents of Axial Seamount from 2013                                    | 344807262;350546090                                                                                                                   | 7ae31365cb43b371c168bf9b8c0d6433;bfa9cd3537d96f9b7e3130a671126c00                                                                     | ftp.sra.ebi.ac.uk/vol1/fastq/ERR694/ERR694113/ERR694113_1.fastq.gz;ftp.sra.ebi.ac.uk/vol1/fastq/ERR694/ERR694113/ERR694113_2.fastq.gz | FS891_Anemone_DNA                                                                                                                     | 2013                                                                                                                                  | \n",
       "| PRJEB7866                                                                                                                             | SAMEA3143267                                                                                                                          | ERX639094                                                                                                                             | ERR694114                                                                                                                             | metagenome                                                                                                                            | FS891_Anemone_DNA                                                                                                                     | 290                                                                                                                                   | METAGENOMIC                                                                                                                           | 4000000                                                                                                                               | Metagenomes and metatranscriptomes from the diffuse hydrothermal vents of Axial Seamount from 2013                                    | 345995782;351214626                                                                                                                   | cc5cca8414c8e9353aa0ae38f9b06b3c;c35b5599f6af58455910ef7598b4ccc6                                                                     | ftp.sra.ebi.ac.uk/vol1/fastq/ERR694/ERR694114/ERR694114_1.fastq.gz;ftp.sra.ebi.ac.uk/vol1/fastq/ERR694/ERR694114/ERR694114_2.fastq.gz | FS891_Anemone_DNA                                                                                                                     | 2013                                                                                                                                  | \n",
       "| PRJEB7866                                                                                                                             | SAMEA3143267                                                                                                                          | ERX639095                                                                                                                             | ERR694115                                                                                                                             | metagenome                                                                                                                            | FS891_Anemone_DNA                                                                                                                     | 290                                                                                                                                   | METAGENOMIC                                                                                                                           | 4000000                                                                                                                               | Metagenomes and metatranscriptomes from the diffuse hydrothermal vents of Axial Seamount from 2013                                    | 350680705;357178495                                                                                                                   | 0302bd73850529935d261002aaa3b8ec;1f64bf9b3d4f99aeb35c3d428904e468                                                                     | ftp.sra.ebi.ac.uk/vol1/fastq/ERR694/ERR694115/ERR694115_1.fastq.gz;ftp.sra.ebi.ac.uk/vol1/fastq/ERR694/ERR694115/ERR694115_2.fastq.gz | FS891_Anemone_DNA                                                                                                                     | 2013                                                                                                                                  | \n",
       "\n",
       "\n"
      ],
      "text/plain": [
       "  study_accession sample_accession experiment_accession run_accession\n",
       "1 PRJEB7866       SAMEA3143267     ERX639090            ERR694110    \n",
       "2 PRJEB7866       SAMEA3143267     ERX639091            ERR694111    \n",
       "3 PRJEB7866       SAMEA3143267     ERX639092            ERR694112    \n",
       "4 PRJEB7866       SAMEA3143267     ERX639093            ERR694113    \n",
       "5 PRJEB7866       SAMEA3143267     ERX639094            ERR694114    \n",
       "6 PRJEB7866       SAMEA3143267     ERX639095            ERR694115    \n",
       "  scientific_name library_name      nominal_length library_source read_count\n",
       "1 metagenome      FS891_Anemone_DNA 290            METAGENOMIC    4000000   \n",
       "2 metagenome      FS891_Anemone_DNA 290            METAGENOMIC    4000000   \n",
       "3 metagenome      FS891_Anemone_DNA 290            METAGENOMIC    4000000   \n",
       "4 metagenome      FS891_Anemone_DNA 290            METAGENOMIC    4000000   \n",
       "5 metagenome      FS891_Anemone_DNA 290            METAGENOMIC    4000000   \n",
       "6 metagenome      FS891_Anemone_DNA 290            METAGENOMIC    4000000   \n",
       "  study_title                                                                                       \n",
       "1 Metagenomes and metatranscriptomes from the diffuse hydrothermal vents of Axial Seamount from 2013\n",
       "2 Metagenomes and metatranscriptomes from the diffuse hydrothermal vents of Axial Seamount from 2013\n",
       "3 Metagenomes and metatranscriptomes from the diffuse hydrothermal vents of Axial Seamount from 2013\n",
       "4 Metagenomes and metatranscriptomes from the diffuse hydrothermal vents of Axial Seamount from 2013\n",
       "5 Metagenomes and metatranscriptomes from the diffuse hydrothermal vents of Axial Seamount from 2013\n",
       "6 Metagenomes and metatranscriptomes from the diffuse hydrothermal vents of Axial Seamount from 2013\n",
       "  fastq_bytes        \n",
       "1 351383192;354840024\n",
       "2 351056928;357128637\n",
       "3 350362583;356700610\n",
       "4 344807262;350546090\n",
       "5 345995782;351214626\n",
       "6 350680705;357178495\n",
       "  fastq_md5                                                        \n",
       "1 89d9a8f98acb93f1c499877a695d974e;7de642fdf3a2b3aefe98f0b41d6fa5a3\n",
       "2 6b4c317b4e6f83c7dc6c87345aa343fc;e490709f39247b82438635b6fe0e9642\n",
       "3 0bdd3cfe0abc6b145ed6e8d19305e327;beb1be6dc2272ea52abe7c76c6b942a5\n",
       "4 7ae31365cb43b371c168bf9b8c0d6433;bfa9cd3537d96f9b7e3130a671126c00\n",
       "5 cc5cca8414c8e9353aa0ae38f9b06b3c;c35b5599f6af58455910ef7598b4ccc6\n",
       "6 0302bd73850529935d261002aaa3b8ec;1f64bf9b3d4f99aeb35c3d428904e468\n",
       "  fastq_ftp                                                                                                                            \n",
       "1 ftp.sra.ebi.ac.uk/vol1/fastq/ERR694/ERR694110/ERR694110_1.fastq.gz;ftp.sra.ebi.ac.uk/vol1/fastq/ERR694/ERR694110/ERR694110_2.fastq.gz\n",
       "2 ftp.sra.ebi.ac.uk/vol1/fastq/ERR694/ERR694111/ERR694111_1.fastq.gz;ftp.sra.ebi.ac.uk/vol1/fastq/ERR694/ERR694111/ERR694111_2.fastq.gz\n",
       "3 ftp.sra.ebi.ac.uk/vol1/fastq/ERR694/ERR694112/ERR694112_1.fastq.gz;ftp.sra.ebi.ac.uk/vol1/fastq/ERR694/ERR694112/ERR694112_2.fastq.gz\n",
       "4 ftp.sra.ebi.ac.uk/vol1/fastq/ERR694/ERR694113/ERR694113_1.fastq.gz;ftp.sra.ebi.ac.uk/vol1/fastq/ERR694/ERR694113/ERR694113_2.fastq.gz\n",
       "5 ftp.sra.ebi.ac.uk/vol1/fastq/ERR694/ERR694114/ERR694114_1.fastq.gz;ftp.sra.ebi.ac.uk/vol1/fastq/ERR694/ERR694114/ERR694114_2.fastq.gz\n",
       "6 ftp.sra.ebi.ac.uk/vol1/fastq/ERR694/ERR694115/ERR694115_1.fastq.gz;ftp.sra.ebi.ac.uk/vol1/fastq/ERR694/ERR694115/ERR694115_2.fastq.gz\n",
       "  sample_alias      Year\n",
       "1 FS891_Anemone_DNA 2013\n",
       "2 FS891_Anemone_DNA 2013\n",
       "3 FS891_Anemone_DNA 2013\n",
       "4 FS891_Anemone_DNA 2013\n",
       "5 FS891_Anemone_DNA 2013\n",
       "6 FS891_Anemone_DNA 2013"
      ]
     },
     "metadata": {},
     "output_type": "display_data"
    }
   ],
   "source": [
    "head(axial_all)"
   ]
  },
  {
   "cell_type": "code",
   "execution_count": 10,
   "metadata": {},
   "outputs": [
    {
     "data": {
      "text/html": [
       "<ol class=list-inline>\n",
       "\t<li>PRJEB7866</li>\n",
       "\t<li>PRJEB12000</li>\n",
       "\t<li>PRJEB19456</li>\n",
       "</ol>\n",
       "\n",
       "<details>\n",
       "\t<summary style=display:list-item;cursor:pointer>\n",
       "\t\t<strong>Levels</strong>:\n",
       "\t</summary>\n",
       "\t<ol class=list-inline>\n",
       "\t\t<li>'PRJEB7866'</li>\n",
       "\t\t<li>'PRJEB12000'</li>\n",
       "\t\t<li>'PRJEB19456'</li>\n",
       "\t</ol>\n",
       "</details>"
      ],
      "text/latex": [
       "\\begin{enumerate*}\n",
       "\\item PRJEB7866\n",
       "\\item PRJEB12000\n",
       "\\item PRJEB19456\n",
       "\\end{enumerate*}\n",
       "\n",
       "\\emph{Levels}: \\begin{enumerate*}\n",
       "\\item 'PRJEB7866'\n",
       "\\item 'PRJEB12000'\n",
       "\\item 'PRJEB19456'\n",
       "\\end{enumerate*}\n"
      ],
      "text/markdown": [
       "1. PRJEB7866\n",
       "2. PRJEB12000\n",
       "3. PRJEB19456\n",
       "\n",
       "\n",
       "\n",
       "**Levels**: 1. 'PRJEB7866'\n",
       "2. 'PRJEB12000'\n",
       "3. 'PRJEB19456'\n",
       "\n",
       "\n"
      ],
      "text/plain": [
       "[1] PRJEB7866  PRJEB12000 PRJEB19456\n",
       "Levels: PRJEB7866 PRJEB12000 PRJEB19456"
      ]
     },
     "metadata": {},
     "output_type": "display_data"
    },
    {
     "data": {
      "text/html": [
       "<ol class=list-inline>\n",
       "\t<li>METAGENOMIC</li>\n",
       "\t<li>METATRANSCRIPTOMIC</li>\n",
       "</ol>\n",
       "\n",
       "<details>\n",
       "\t<summary style=display:list-item;cursor:pointer>\n",
       "\t\t<strong>Levels</strong>:\n",
       "\t</summary>\n",
       "\t<ol class=list-inline>\n",
       "\t\t<li>'METAGENOMIC'</li>\n",
       "\t\t<li>'METATRANSCRIPTOMIC'</li>\n",
       "\t</ol>\n",
       "</details>"
      ],
      "text/latex": [
       "\\begin{enumerate*}\n",
       "\\item METAGENOMIC\n",
       "\\item METATRANSCRIPTOMIC\n",
       "\\end{enumerate*}\n",
       "\n",
       "\\emph{Levels}: \\begin{enumerate*}\n",
       "\\item 'METAGENOMIC'\n",
       "\\item 'METATRANSCRIPTOMIC'\n",
       "\\end{enumerate*}\n"
      ],
      "text/markdown": [
       "1. METAGENOMIC\n",
       "2. METATRANSCRIPTOMIC\n",
       "\n",
       "\n",
       "\n",
       "**Levels**: 1. 'METAGENOMIC'\n",
       "2. 'METATRANSCRIPTOMIC'\n",
       "\n",
       "\n"
      ],
      "text/plain": [
       "[1] METAGENOMIC        METATRANSCRIPTOMIC\n",
       "Levels: METAGENOMIC METATRANSCRIPTOMIC"
      ]
     },
     "metadata": {},
     "output_type": "display_data"
    },
    {
     "data": {
      "text/html": [
       "<ol class=list-inline>\n",
       "\t<li>'2013'</li>\n",
       "\t<li>'2014'</li>\n",
       "\t<li>'2015'</li>\n",
       "</ol>\n"
      ],
      "text/latex": [
       "\\begin{enumerate*}\n",
       "\\item '2013'\n",
       "\\item '2014'\n",
       "\\item '2015'\n",
       "\\end{enumerate*}\n"
      ],
      "text/markdown": [
       "1. '2013'\n",
       "2. '2014'\n",
       "3. '2015'\n",
       "\n",
       "\n"
      ],
      "text/plain": [
       "[1] \"2013\" \"2014\" \"2015\""
      ]
     },
     "metadata": {},
     "output_type": "display_data"
    }
   ],
   "source": [
    "unique(axial_all$study_accession)\n",
    "unique(axial_all$library_source)\n",
    "unique(axial_all$Year)"
   ]
  },
  {
   "cell_type": "code",
   "execution_count": 11,
   "metadata": {},
   "outputs": [],
   "source": [
    "# Make a new table for metagenomics and metatranscritpomics\n",
    "metag_axial <- subset(axial_all, library_source %in% \"METAGENOMIC\")\n",
    "metat_axial <- subset(axial_all, library_source %in% \"METATRANSCRIPTOMIC\")"
   ]
  },
  {
   "cell_type": "code",
   "execution_count": 12,
   "metadata": {},
   "outputs": [],
   "source": [
    "# Input tables - separated by metaG and metaT\n",
    "write.table(metag_axial, file=\"axial_metaG.txt\", quote=FALSE, sep=\"\\t\", row.names=FALSE)\n",
    "write.table(metat_axial, file=\"axial_metaT.txt\", quote=FALSE, sep=\"\\t\", row.names=FALSE)"
   ]
  },
  {
   "cell_type": "code",
   "execution_count": 13,
   "metadata": {},
   "outputs": [
    {
     "data": {
      "text/html": [
       "<ol class=list-inline>\n",
       "\t<li>FS891_Anemone_RNA</li>\n",
       "\t<li>FS896_ElGuapo_RNA</li>\n",
       "\t<li>FS898_N3Area_RNA</li>\n",
       "\t<li>FS900_Dependable_RNA</li>\n",
       "\t<li>FS904_Marker33_RNA</li>\n",
       "\t<li>FS903_Marker113_RNA</li>\n",
       "\t<li>CTD1200_RNA</li>\n",
       "\t<li>FS906_Marker113_RNA</li>\n",
       "\t<li>FS907_Anemone_RNA</li>\n",
       "\t<li>FS908_Marker33_RNA</li>\n",
       "\t<li>FS907_Anemone_RNA_rerun</li>\n",
       "\t<li>FS917_Marker33_RNA</li>\n",
       "\t<li>FS914_Anemone_RNA</li>\n",
       "\t<li>FS915_Marker113_RNA</li>\n",
       "\t<li>FS918_NorthRiftZone_RNA</li>\n",
       "\t<li>AnemonePlume_2015_RNA</li>\n",
       "\t<li>Background_1500m_2015_RNA</li>\n",
       "</ol>\n",
       "\n",
       "<details>\n",
       "\t<summary style=display:list-item;cursor:pointer>\n",
       "\t\t<strong>Levels</strong>:\n",
       "\t</summary>\n",
       "\t<ol class=list-inline>\n",
       "\t\t<li>'FS891_Anemone_DNA'</li>\n",
       "\t\t<li>'FS891_Anemone_RNA'</li>\n",
       "\t\t<li>'FS896_ElGuapo_DNA'</li>\n",
       "\t\t<li>'FS896_ElGuapo_RNA'</li>\n",
       "\t\t<li>'FS898_N3Area_DNA'</li>\n",
       "\t\t<li>'FS898_N3Area_RNA'</li>\n",
       "\t\t<li>'FS900_Dependable_DNA'</li>\n",
       "\t\t<li>'FS900_Dependable_RNA'</li>\n",
       "\t\t<li>'FS903_Marker113_RNA'</li>\n",
       "\t\t<li>'FS904_Marker113_DNA'</li>\n",
       "\t\t<li>'FS904_Marker33_DNA'</li>\n",
       "\t\t<li>'FS904_Marker33_RNA'</li>\n",
       "\t\t<li>'CTD1200_DNA'</li>\n",
       "\t\t<li>'CTD1200_RNA'</li>\n",
       "\t\t<li>'FS906_Marker113_DNA'</li>\n",
       "\t\t<li>'FS906_Marker113_RNA'</li>\n",
       "\t\t<li>'FS907_Anemone_DNA'</li>\n",
       "\t\t<li>'FS907_Anemone_RNA'</li>\n",
       "\t\t<li>'FS907_Anemone_RNA_rerun'</li>\n",
       "\t\t<li>'FS908_Marker33_DNA'</li>\n",
       "\t\t<li>'FS908_Marker33_RNA'</li>\n",
       "\t\t<li>'AnemonePlume_2015_DNA'</li>\n",
       "\t\t<li>'AnemonePlume_2015_RNA'</li>\n",
       "\t\t<li>'Background_1500m_2015_DNA'</li>\n",
       "\t\t<li>'Background_1500m_2015_RNA'</li>\n",
       "\t\t<li>'FS914_Anemone_DNA'</li>\n",
       "\t\t<li>'FS914_Anemone_RNA'</li>\n",
       "\t\t<li>'FS915_Marker113_DNA'</li>\n",
       "\t\t<li>'FS915_Marker113_RNA'</li>\n",
       "\t\t<li>'FS917_Marker33_DNA'</li>\n",
       "\t\t<li>'FS917_Marker33_RNA'</li>\n",
       "\t\t<li>'FS918_NorthRiftZone_DNA'</li>\n",
       "\t\t<li>'FS918_NorthRiftZone_RNA'</li>\n",
       "\t</ol>\n",
       "</details>"
      ],
      "text/latex": [
       "\\begin{enumerate*}\n",
       "\\item FS891\\_Anemone\\_RNA\n",
       "\\item FS896\\_ElGuapo\\_RNA\n",
       "\\item FS898\\_N3Area\\_RNA\n",
       "\\item FS900\\_Dependable\\_RNA\n",
       "\\item FS904\\_Marker33\\_RNA\n",
       "\\item FS903\\_Marker113\\_RNA\n",
       "\\item CTD1200\\_RNA\n",
       "\\item FS906\\_Marker113\\_RNA\n",
       "\\item FS907\\_Anemone\\_RNA\n",
       "\\item FS908\\_Marker33\\_RNA\n",
       "\\item FS907\\_Anemone\\_RNA\\_rerun\n",
       "\\item FS917\\_Marker33\\_RNA\n",
       "\\item FS914\\_Anemone\\_RNA\n",
       "\\item FS915\\_Marker113\\_RNA\n",
       "\\item FS918\\_NorthRiftZone\\_RNA\n",
       "\\item AnemonePlume\\_2015\\_RNA\n",
       "\\item Background\\_1500m\\_2015\\_RNA\n",
       "\\end{enumerate*}\n",
       "\n",
       "\\emph{Levels}: \\begin{enumerate*}\n",
       "\\item 'FS891\\_Anemone\\_DNA'\n",
       "\\item 'FS891\\_Anemone\\_RNA'\n",
       "\\item 'FS896\\_ElGuapo\\_DNA'\n",
       "\\item 'FS896\\_ElGuapo\\_RNA'\n",
       "\\item 'FS898\\_N3Area\\_DNA'\n",
       "\\item 'FS898\\_N3Area\\_RNA'\n",
       "\\item 'FS900\\_Dependable\\_DNA'\n",
       "\\item 'FS900\\_Dependable\\_RNA'\n",
       "\\item 'FS903\\_Marker113\\_RNA'\n",
       "\\item 'FS904\\_Marker113\\_DNA'\n",
       "\\item 'FS904\\_Marker33\\_DNA'\n",
       "\\item 'FS904\\_Marker33\\_RNA'\n",
       "\\item 'CTD1200\\_DNA'\n",
       "\\item 'CTD1200\\_RNA'\n",
       "\\item 'FS906\\_Marker113\\_DNA'\n",
       "\\item 'FS906\\_Marker113\\_RNA'\n",
       "\\item 'FS907\\_Anemone\\_DNA'\n",
       "\\item 'FS907\\_Anemone\\_RNA'\n",
       "\\item 'FS907\\_Anemone\\_RNA\\_rerun'\n",
       "\\item 'FS908\\_Marker33\\_DNA'\n",
       "\\item 'FS908\\_Marker33\\_RNA'\n",
       "\\item 'AnemonePlume\\_2015\\_DNA'\n",
       "\\item 'AnemonePlume\\_2015\\_RNA'\n",
       "\\item 'Background\\_1500m\\_2015\\_DNA'\n",
       "\\item 'Background\\_1500m\\_2015\\_RNA'\n",
       "\\item 'FS914\\_Anemone\\_DNA'\n",
       "\\item 'FS914\\_Anemone\\_RNA'\n",
       "\\item 'FS915\\_Marker113\\_DNA'\n",
       "\\item 'FS915\\_Marker113\\_RNA'\n",
       "\\item 'FS917\\_Marker33\\_DNA'\n",
       "\\item 'FS917\\_Marker33\\_RNA'\n",
       "\\item 'FS918\\_NorthRiftZone\\_DNA'\n",
       "\\item 'FS918\\_NorthRiftZone\\_RNA'\n",
       "\\end{enumerate*}\n"
      ],
      "text/markdown": [
       "1. FS891_Anemone_RNA\n",
       "2. FS896_ElGuapo_RNA\n",
       "3. FS898_N3Area_RNA\n",
       "4. FS900_Dependable_RNA\n",
       "5. FS904_Marker33_RNA\n",
       "6. FS903_Marker113_RNA\n",
       "7. CTD1200_RNA\n",
       "8. FS906_Marker113_RNA\n",
       "9. FS907_Anemone_RNA\n",
       "10. FS908_Marker33_RNA\n",
       "11. FS907_Anemone_RNA_rerun\n",
       "12. FS917_Marker33_RNA\n",
       "13. FS914_Anemone_RNA\n",
       "14. FS915_Marker113_RNA\n",
       "15. FS918_NorthRiftZone_RNA\n",
       "16. AnemonePlume_2015_RNA\n",
       "17. Background_1500m_2015_RNA\n",
       "\n",
       "\n",
       "\n",
       "**Levels**: 1. 'FS891_Anemone_DNA'\n",
       "2. 'FS891_Anemone_RNA'\n",
       "3. 'FS896_ElGuapo_DNA'\n",
       "4. 'FS896_ElGuapo_RNA'\n",
       "5. 'FS898_N3Area_DNA'\n",
       "6. 'FS898_N3Area_RNA'\n",
       "7. 'FS900_Dependable_DNA'\n",
       "8. 'FS900_Dependable_RNA'\n",
       "9. 'FS903_Marker113_RNA'\n",
       "10. 'FS904_Marker113_DNA'\n",
       "11. 'FS904_Marker33_DNA'\n",
       "12. 'FS904_Marker33_RNA'\n",
       "13. 'CTD1200_DNA'\n",
       "14. 'CTD1200_RNA'\n",
       "15. 'FS906_Marker113_DNA'\n",
       "16. 'FS906_Marker113_RNA'\n",
       "17. 'FS907_Anemone_DNA'\n",
       "18. 'FS907_Anemone_RNA'\n",
       "19. 'FS907_Anemone_RNA_rerun'\n",
       "20. 'FS908_Marker33_DNA'\n",
       "21. 'FS908_Marker33_RNA'\n",
       "22. 'AnemonePlume_2015_DNA'\n",
       "23. 'AnemonePlume_2015_RNA'\n",
       "24. 'Background_1500m_2015_DNA'\n",
       "25. 'Background_1500m_2015_RNA'\n",
       "26. 'FS914_Anemone_DNA'\n",
       "27. 'FS914_Anemone_RNA'\n",
       "28. 'FS915_Marker113_DNA'\n",
       "29. 'FS915_Marker113_RNA'\n",
       "30. 'FS917_Marker33_DNA'\n",
       "31. 'FS917_Marker33_RNA'\n",
       "32. 'FS918_NorthRiftZone_DNA'\n",
       "33. 'FS918_NorthRiftZone_RNA'\n",
       "\n",
       "\n"
      ],
      "text/plain": [
       " [1] FS891_Anemone_RNA         FS896_ElGuapo_RNA        \n",
       " [3] FS898_N3Area_RNA          FS900_Dependable_RNA     \n",
       " [5] FS904_Marker33_RNA        FS903_Marker113_RNA      \n",
       " [7] CTD1200_RNA               FS906_Marker113_RNA      \n",
       " [9] FS907_Anemone_RNA         FS908_Marker33_RNA       \n",
       "[11] FS907_Anemone_RNA_rerun   FS917_Marker33_RNA       \n",
       "[13] FS914_Anemone_RNA         FS915_Marker113_RNA      \n",
       "[15] FS918_NorthRiftZone_RNA   AnemonePlume_2015_RNA    \n",
       "[17] Background_1500m_2015_RNA\n",
       "33 Levels: FS891_Anemone_DNA FS891_Anemone_RNA ... FS918_NorthRiftZone_RNA"
      ]
     },
     "metadata": {},
     "output_type": "display_data"
    },
    {
     "data": {
      "text/html": [
       "<ol class=list-inline>\n",
       "\t<li>FS891_Anemone_DNA</li>\n",
       "\t<li>FS896_ElGuapo_DNA</li>\n",
       "\t<li>FS898_N3Area_DNA</li>\n",
       "\t<li>FS900_Dependable_DNA</li>\n",
       "\t<li>FS904_Marker33_DNA</li>\n",
       "\t<li>FS904_Marker113_DNA</li>\n",
       "\t<li>CTD1200_DNA</li>\n",
       "\t<li>FS906_Marker113_DNA</li>\n",
       "\t<li>FS907_Anemone_DNA</li>\n",
       "\t<li>FS908_Marker33_DNA</li>\n",
       "\t<li>FS917_Marker33_DNA</li>\n",
       "\t<li>FS914_Anemone_DNA</li>\n",
       "\t<li>FS915_Marker113_DNA</li>\n",
       "\t<li>FS918_NorthRiftZone_DNA</li>\n",
       "\t<li>AnemonePlume_2015_DNA</li>\n",
       "\t<li>Background_1500m_2015_DNA</li>\n",
       "</ol>\n",
       "\n",
       "<details>\n",
       "\t<summary style=display:list-item;cursor:pointer>\n",
       "\t\t<strong>Levels</strong>:\n",
       "\t</summary>\n",
       "\t<ol class=list-inline>\n",
       "\t\t<li>'FS891_Anemone_DNA'</li>\n",
       "\t\t<li>'FS891_Anemone_RNA'</li>\n",
       "\t\t<li>'FS896_ElGuapo_DNA'</li>\n",
       "\t\t<li>'FS896_ElGuapo_RNA'</li>\n",
       "\t\t<li>'FS898_N3Area_DNA'</li>\n",
       "\t\t<li>'FS898_N3Area_RNA'</li>\n",
       "\t\t<li>'FS900_Dependable_DNA'</li>\n",
       "\t\t<li>'FS900_Dependable_RNA'</li>\n",
       "\t\t<li>'FS903_Marker113_RNA'</li>\n",
       "\t\t<li>'FS904_Marker113_DNA'</li>\n",
       "\t\t<li>'FS904_Marker33_DNA'</li>\n",
       "\t\t<li>'FS904_Marker33_RNA'</li>\n",
       "\t\t<li>'CTD1200_DNA'</li>\n",
       "\t\t<li>'CTD1200_RNA'</li>\n",
       "\t\t<li>'FS906_Marker113_DNA'</li>\n",
       "\t\t<li>'FS906_Marker113_RNA'</li>\n",
       "\t\t<li>'FS907_Anemone_DNA'</li>\n",
       "\t\t<li>'FS907_Anemone_RNA'</li>\n",
       "\t\t<li>'FS907_Anemone_RNA_rerun'</li>\n",
       "\t\t<li>'FS908_Marker33_DNA'</li>\n",
       "\t\t<li>'FS908_Marker33_RNA'</li>\n",
       "\t\t<li>'AnemonePlume_2015_DNA'</li>\n",
       "\t\t<li>'AnemonePlume_2015_RNA'</li>\n",
       "\t\t<li>'Background_1500m_2015_DNA'</li>\n",
       "\t\t<li>'Background_1500m_2015_RNA'</li>\n",
       "\t\t<li>'FS914_Anemone_DNA'</li>\n",
       "\t\t<li>'FS914_Anemone_RNA'</li>\n",
       "\t\t<li>'FS915_Marker113_DNA'</li>\n",
       "\t\t<li>'FS915_Marker113_RNA'</li>\n",
       "\t\t<li>'FS917_Marker33_DNA'</li>\n",
       "\t\t<li>'FS917_Marker33_RNA'</li>\n",
       "\t\t<li>'FS918_NorthRiftZone_DNA'</li>\n",
       "\t\t<li>'FS918_NorthRiftZone_RNA'</li>\n",
       "\t</ol>\n",
       "</details>"
      ],
      "text/latex": [
       "\\begin{enumerate*}\n",
       "\\item FS891\\_Anemone\\_DNA\n",
       "\\item FS896\\_ElGuapo\\_DNA\n",
       "\\item FS898\\_N3Area\\_DNA\n",
       "\\item FS900\\_Dependable\\_DNA\n",
       "\\item FS904\\_Marker33\\_DNA\n",
       "\\item FS904\\_Marker113\\_DNA\n",
       "\\item CTD1200\\_DNA\n",
       "\\item FS906\\_Marker113\\_DNA\n",
       "\\item FS907\\_Anemone\\_DNA\n",
       "\\item FS908\\_Marker33\\_DNA\n",
       "\\item FS917\\_Marker33\\_DNA\n",
       "\\item FS914\\_Anemone\\_DNA\n",
       "\\item FS915\\_Marker113\\_DNA\n",
       "\\item FS918\\_NorthRiftZone\\_DNA\n",
       "\\item AnemonePlume\\_2015\\_DNA\n",
       "\\item Background\\_1500m\\_2015\\_DNA\n",
       "\\end{enumerate*}\n",
       "\n",
       "\\emph{Levels}: \\begin{enumerate*}\n",
       "\\item 'FS891\\_Anemone\\_DNA'\n",
       "\\item 'FS891\\_Anemone\\_RNA'\n",
       "\\item 'FS896\\_ElGuapo\\_DNA'\n",
       "\\item 'FS896\\_ElGuapo\\_RNA'\n",
       "\\item 'FS898\\_N3Area\\_DNA'\n",
       "\\item 'FS898\\_N3Area\\_RNA'\n",
       "\\item 'FS900\\_Dependable\\_DNA'\n",
       "\\item 'FS900\\_Dependable\\_RNA'\n",
       "\\item 'FS903\\_Marker113\\_RNA'\n",
       "\\item 'FS904\\_Marker113\\_DNA'\n",
       "\\item 'FS904\\_Marker33\\_DNA'\n",
       "\\item 'FS904\\_Marker33\\_RNA'\n",
       "\\item 'CTD1200\\_DNA'\n",
       "\\item 'CTD1200\\_RNA'\n",
       "\\item 'FS906\\_Marker113\\_DNA'\n",
       "\\item 'FS906\\_Marker113\\_RNA'\n",
       "\\item 'FS907\\_Anemone\\_DNA'\n",
       "\\item 'FS907\\_Anemone\\_RNA'\n",
       "\\item 'FS907\\_Anemone\\_RNA\\_rerun'\n",
       "\\item 'FS908\\_Marker33\\_DNA'\n",
       "\\item 'FS908\\_Marker33\\_RNA'\n",
       "\\item 'AnemonePlume\\_2015\\_DNA'\n",
       "\\item 'AnemonePlume\\_2015\\_RNA'\n",
       "\\item 'Background\\_1500m\\_2015\\_DNA'\n",
       "\\item 'Background\\_1500m\\_2015\\_RNA'\n",
       "\\item 'FS914\\_Anemone\\_DNA'\n",
       "\\item 'FS914\\_Anemone\\_RNA'\n",
       "\\item 'FS915\\_Marker113\\_DNA'\n",
       "\\item 'FS915\\_Marker113\\_RNA'\n",
       "\\item 'FS917\\_Marker33\\_DNA'\n",
       "\\item 'FS917\\_Marker33\\_RNA'\n",
       "\\item 'FS918\\_NorthRiftZone\\_DNA'\n",
       "\\item 'FS918\\_NorthRiftZone\\_RNA'\n",
       "\\end{enumerate*}\n"
      ],
      "text/markdown": [
       "1. FS891_Anemone_DNA\n",
       "2. FS896_ElGuapo_DNA\n",
       "3. FS898_N3Area_DNA\n",
       "4. FS900_Dependable_DNA\n",
       "5. FS904_Marker33_DNA\n",
       "6. FS904_Marker113_DNA\n",
       "7. CTD1200_DNA\n",
       "8. FS906_Marker113_DNA\n",
       "9. FS907_Anemone_DNA\n",
       "10. FS908_Marker33_DNA\n",
       "11. FS917_Marker33_DNA\n",
       "12. FS914_Anemone_DNA\n",
       "13. FS915_Marker113_DNA\n",
       "14. FS918_NorthRiftZone_DNA\n",
       "15. AnemonePlume_2015_DNA\n",
       "16. Background_1500m_2015_DNA\n",
       "\n",
       "\n",
       "\n",
       "**Levels**: 1. 'FS891_Anemone_DNA'\n",
       "2. 'FS891_Anemone_RNA'\n",
       "3. 'FS896_ElGuapo_DNA'\n",
       "4. 'FS896_ElGuapo_RNA'\n",
       "5. 'FS898_N3Area_DNA'\n",
       "6. 'FS898_N3Area_RNA'\n",
       "7. 'FS900_Dependable_DNA'\n",
       "8. 'FS900_Dependable_RNA'\n",
       "9. 'FS903_Marker113_RNA'\n",
       "10. 'FS904_Marker113_DNA'\n",
       "11. 'FS904_Marker33_DNA'\n",
       "12. 'FS904_Marker33_RNA'\n",
       "13. 'CTD1200_DNA'\n",
       "14. 'CTD1200_RNA'\n",
       "15. 'FS906_Marker113_DNA'\n",
       "16. 'FS906_Marker113_RNA'\n",
       "17. 'FS907_Anemone_DNA'\n",
       "18. 'FS907_Anemone_RNA'\n",
       "19. 'FS907_Anemone_RNA_rerun'\n",
       "20. 'FS908_Marker33_DNA'\n",
       "21. 'FS908_Marker33_RNA'\n",
       "22. 'AnemonePlume_2015_DNA'\n",
       "23. 'AnemonePlume_2015_RNA'\n",
       "24. 'Background_1500m_2015_DNA'\n",
       "25. 'Background_1500m_2015_RNA'\n",
       "26. 'FS914_Anemone_DNA'\n",
       "27. 'FS914_Anemone_RNA'\n",
       "28. 'FS915_Marker113_DNA'\n",
       "29. 'FS915_Marker113_RNA'\n",
       "30. 'FS917_Marker33_DNA'\n",
       "31. 'FS917_Marker33_RNA'\n",
       "32. 'FS918_NorthRiftZone_DNA'\n",
       "33. 'FS918_NorthRiftZone_RNA'\n",
       "\n",
       "\n"
      ],
      "text/plain": [
       " [1] FS891_Anemone_DNA         FS896_ElGuapo_DNA        \n",
       " [3] FS898_N3Area_DNA          FS900_Dependable_DNA     \n",
       " [5] FS904_Marker33_DNA        FS904_Marker113_DNA      \n",
       " [7] CTD1200_DNA               FS906_Marker113_DNA      \n",
       " [9] FS907_Anemone_DNA         FS908_Marker33_DNA       \n",
       "[11] FS917_Marker33_DNA        FS914_Anemone_DNA        \n",
       "[13] FS915_Marker113_DNA       FS918_NorthRiftZone_DNA  \n",
       "[15] AnemonePlume_2015_DNA     Background_1500m_2015_DNA\n",
       "33 Levels: FS891_Anemone_DNA FS891_Anemone_RNA ... FS918_NorthRiftZone_RNA"
      ]
     },
     "metadata": {},
     "output_type": "display_data"
    }
   ],
   "source": [
    "# Generate axial assembly list\n",
    "# \"Assembly_group\" and list the \"ERR_list\"\n",
    "#head(metat_axial)\n",
    "unique(metat_axial$library_name)\n",
    "unique(metag_axial$library_name)\n",
    "# Note that only Anemone_RNA_rerun appears in the metaT dataset, \n",
    "## will include as additional samples, so should be fine."
   ]
  },
  {
   "cell_type": "code",
   "execution_count": 14,
   "metadata": {},
   "outputs": [],
   "source": [
    "# Modify and update metatranscriptome library IDs\n",
    "x <- colsplit(metat_axial$library_name, \"_\", c(\"FS\", \"SampleID\", \"Material\"))\n",
    "x$SampleID <- gsub(\"2015\", \"AnemonePlume\", x$SampleID)\n",
    "x$SampleID <- gsub(\"1500m\", \"Background1500m\", x$SampleID)\n",
    "x$SampleID <- gsub(\"RNA\", \"CTD1200m\", x$SampleID)\n",
    "metat_axial_IDs <- cbind(metat_axial, x)\n",
    "#head(metat_axial_IDs)\n",
    "#\n",
    "#\n",
    "# Modify and update metagenomic library IDs\n",
    "y <- colsplit(metag_axial$library_name, \"_\", c(\"FS\", \"SampleID\", \"Material\"))\n",
    "y$SampleID <- gsub(\"2015\", \"AnemonePlume\", y$SampleID)\n",
    "y$SampleID <- gsub(\"1500m\", \"Background1500m\", y$SampleID)\n",
    "y$SampleID <- gsub(\"DNA\", \"CTD1200m\", y$SampleID)\n",
    "metag_axial_IDs <- cbind(metag_axial, y)\n",
    "#head(metag_axial_IDs)"
   ]
  },
  {
   "cell_type": "code",
   "execution_count": 15,
   "metadata": {},
   "outputs": [
    {
     "data": {
      "text/html": [
       "<table>\n",
       "<thead><tr><th></th><th scope=col>FS</th><th scope=col>SampleID</th></tr></thead>\n",
       "<tbody>\n",
       "\t<tr><th scope=row>1</th><td>FS891          </td><td>Anemone        </td></tr>\n",
       "\t<tr><th scope=row>18</th><td>FS896          </td><td>ElGuapo        </td></tr>\n",
       "\t<tr><th scope=row>44</th><td>FS898          </td><td>N3Area         </td></tr>\n",
       "\t<tr><th scope=row>67</th><td>FS900          </td><td>Dependable     </td></tr>\n",
       "\t<tr><th scope=row>90</th><td>FS904          </td><td>Marker33       </td></tr>\n",
       "\t<tr><th scope=row>98</th><td>FS904          </td><td>Marker113      </td></tr>\n",
       "\t<tr><th scope=row>105</th><td>CTD1200        </td><td>CTD1200m       </td></tr>\n",
       "\t<tr><th scope=row>114</th><td>FS906          </td><td>Marker113      </td></tr>\n",
       "\t<tr><th scope=row>127</th><td>FS907          </td><td>Anemone        </td></tr>\n",
       "\t<tr><th scope=row>140</th><td>FS908          </td><td>Marker33       </td></tr>\n",
       "\t<tr><th scope=row>151</th><td>FS917          </td><td>Marker33       </td></tr>\n",
       "\t<tr><th scope=row>152</th><td>FS914          </td><td>Anemone        </td></tr>\n",
       "\t<tr><th scope=row>153</th><td>FS915          </td><td>Marker113      </td></tr>\n",
       "\t<tr><th scope=row>154</th><td>FS918          </td><td>NorthRiftZone  </td></tr>\n",
       "\t<tr><th scope=row>155</th><td>AnemonePlume   </td><td>AnemonePlume   </td></tr>\n",
       "\t<tr><th scope=row>156</th><td>Background     </td><td>Background1500m</td></tr>\n",
       "</tbody>\n",
       "</table>\n"
      ],
      "text/latex": [
       "\\begin{tabular}{r|ll}\n",
       "  & FS & SampleID\\\\\n",
       "\\hline\n",
       "\t1 & FS891           & Anemone        \\\\\n",
       "\t18 & FS896           & ElGuapo        \\\\\n",
       "\t44 & FS898           & N3Area         \\\\\n",
       "\t67 & FS900           & Dependable     \\\\\n",
       "\t90 & FS904           & Marker33       \\\\\n",
       "\t98 & FS904           & Marker113      \\\\\n",
       "\t105 & CTD1200         & CTD1200m       \\\\\n",
       "\t114 & FS906           & Marker113      \\\\\n",
       "\t127 & FS907           & Anemone        \\\\\n",
       "\t140 & FS908           & Marker33       \\\\\n",
       "\t151 & FS917           & Marker33       \\\\\n",
       "\t152 & FS914           & Anemone        \\\\\n",
       "\t153 & FS915           & Marker113      \\\\\n",
       "\t154 & FS918           & NorthRiftZone  \\\\\n",
       "\t155 & AnemonePlume    & AnemonePlume   \\\\\n",
       "\t156 & Background      & Background1500m\\\\\n",
       "\\end{tabular}\n"
      ],
      "text/markdown": [
       "\n",
       "| <!--/--> | FS | SampleID | \n",
       "|---|---|---|---|---|---|---|---|---|---|---|---|---|---|---|---|\n",
       "| 1 | FS891           | Anemone         | \n",
       "| 18 | FS896           | ElGuapo         | \n",
       "| 44 | FS898           | N3Area          | \n",
       "| 67 | FS900           | Dependable      | \n",
       "| 90 | FS904           | Marker33        | \n",
       "| 98 | FS904           | Marker113       | \n",
       "| 105 | CTD1200         | CTD1200m        | \n",
       "| 114 | FS906           | Marker113       | \n",
       "| 127 | FS907           | Anemone         | \n",
       "| 140 | FS908           | Marker33        | \n",
       "| 151 | FS917           | Marker33        | \n",
       "| 152 | FS914           | Anemone         | \n",
       "| 153 | FS915           | Marker113       | \n",
       "| 154 | FS918           | NorthRiftZone   | \n",
       "| 155 | AnemonePlume    | AnemonePlume    | \n",
       "| 156 | Background      | Background1500m | \n",
       "\n",
       "\n"
      ],
      "text/plain": [
       "    FS           SampleID       \n",
       "1   FS891        Anemone        \n",
       "18  FS896        ElGuapo        \n",
       "44  FS898        N3Area         \n",
       "67  FS900        Dependable     \n",
       "90  FS904        Marker33       \n",
       "98  FS904        Marker113      \n",
       "105 CTD1200      CTD1200m       \n",
       "114 FS906        Marker113      \n",
       "127 FS907        Anemone        \n",
       "140 FS908        Marker33       \n",
       "151 FS917        Marker33       \n",
       "152 FS914        Anemone        \n",
       "153 FS915        Marker113      \n",
       "154 FS918        NorthRiftZone  \n",
       "155 AnemonePlume AnemonePlume   \n",
       "156 Background   Background1500m"
      ]
     },
     "metadata": {},
     "output_type": "display_data"
    },
    {
     "data": {
      "text/html": [
       "<table>\n",
       "<thead><tr><th></th><th scope=col>FS</th><th scope=col>SampleID</th></tr></thead>\n",
       "<tbody>\n",
       "\t<tr><th scope=row>1</th><td>FS891          </td><td>Anemone        </td></tr>\n",
       "\t<tr><th scope=row>5</th><td>FS896          </td><td>ElGuapo        </td></tr>\n",
       "\t<tr><th scope=row>12</th><td>FS898          </td><td>N3Area         </td></tr>\n",
       "\t<tr><th scope=row>18</th><td>FS900          </td><td>Dependable     </td></tr>\n",
       "\t<tr><th scope=row>22</th><td>FS904          </td><td>Marker33       </td></tr>\n",
       "\t<tr><th scope=row>28</th><td>FS903          </td><td>Marker113      </td></tr>\n",
       "\t<tr><th scope=row>37</th><td>CTD1200        </td><td>CTD1200m       </td></tr>\n",
       "\t<tr><th scope=row>42</th><td>FS906          </td><td>Marker113      </td></tr>\n",
       "\t<tr><th scope=row>52</th><td>FS907          </td><td>Anemone        </td></tr>\n",
       "\t<tr><th scope=row>59</th><td>FS908          </td><td>Marker33       </td></tr>\n",
       "\t<tr><th scope=row>68</th><td>FS917          </td><td>Marker33       </td></tr>\n",
       "\t<tr><th scope=row>69</th><td>FS914          </td><td>Anemone        </td></tr>\n",
       "\t<tr><th scope=row>70</th><td>FS915          </td><td>Marker113      </td></tr>\n",
       "\t<tr><th scope=row>71</th><td>FS918          </td><td>NorthRiftZone  </td></tr>\n",
       "\t<tr><th scope=row>72</th><td>AnemonePlume   </td><td>AnemonePlume   </td></tr>\n",
       "\t<tr><th scope=row>73</th><td>Background     </td><td>Background1500m</td></tr>\n",
       "</tbody>\n",
       "</table>\n"
      ],
      "text/latex": [
       "\\begin{tabular}{r|ll}\n",
       "  & FS & SampleID\\\\\n",
       "\\hline\n",
       "\t1 & FS891           & Anemone        \\\\\n",
       "\t5 & FS896           & ElGuapo        \\\\\n",
       "\t12 & FS898           & N3Area         \\\\\n",
       "\t18 & FS900           & Dependable     \\\\\n",
       "\t22 & FS904           & Marker33       \\\\\n",
       "\t28 & FS903           & Marker113      \\\\\n",
       "\t37 & CTD1200         & CTD1200m       \\\\\n",
       "\t42 & FS906           & Marker113      \\\\\n",
       "\t52 & FS907           & Anemone        \\\\\n",
       "\t59 & FS908           & Marker33       \\\\\n",
       "\t68 & FS917           & Marker33       \\\\\n",
       "\t69 & FS914           & Anemone        \\\\\n",
       "\t70 & FS915           & Marker113      \\\\\n",
       "\t71 & FS918           & NorthRiftZone  \\\\\n",
       "\t72 & AnemonePlume    & AnemonePlume   \\\\\n",
       "\t73 & Background      & Background1500m\\\\\n",
       "\\end{tabular}\n"
      ],
      "text/markdown": [
       "\n",
       "| <!--/--> | FS | SampleID | \n",
       "|---|---|---|---|---|---|---|---|---|---|---|---|---|---|---|---|\n",
       "| 1 | FS891           | Anemone         | \n",
       "| 5 | FS896           | ElGuapo         | \n",
       "| 12 | FS898           | N3Area          | \n",
       "| 18 | FS900           | Dependable      | \n",
       "| 22 | FS904           | Marker33        | \n",
       "| 28 | FS903           | Marker113       | \n",
       "| 37 | CTD1200         | CTD1200m        | \n",
       "| 42 | FS906           | Marker113       | \n",
       "| 52 | FS907           | Anemone         | \n",
       "| 59 | FS908           | Marker33        | \n",
       "| 68 | FS917           | Marker33        | \n",
       "| 69 | FS914           | Anemone         | \n",
       "| 70 | FS915           | Marker113       | \n",
       "| 71 | FS918           | NorthRiftZone   | \n",
       "| 72 | AnemonePlume    | AnemonePlume    | \n",
       "| 73 | Background      | Background1500m | \n",
       "\n",
       "\n"
      ],
      "text/plain": [
       "   FS           SampleID       \n",
       "1  FS891        Anemone        \n",
       "5  FS896        ElGuapo        \n",
       "12 FS898        N3Area         \n",
       "18 FS900        Dependable     \n",
       "22 FS904        Marker33       \n",
       "28 FS903        Marker113      \n",
       "37 CTD1200      CTD1200m       \n",
       "42 FS906        Marker113      \n",
       "52 FS907        Anemone        \n",
       "59 FS908        Marker33       \n",
       "68 FS917        Marker33       \n",
       "69 FS914        Anemone        \n",
       "70 FS915        Marker113      \n",
       "71 FS918        NorthRiftZone  \n",
       "72 AnemonePlume AnemonePlume   \n",
       "73 Background   Background1500m"
      ]
     },
     "metadata": {},
     "output_type": "display_data"
    }
   ],
   "source": [
    "unique(y[1:2])\n",
    "unique(x[1:2])"
   ]
  },
  {
   "cell_type": "code",
   "execution_count": 16,
   "metadata": {},
   "outputs": [],
   "source": [
    "# head(metat_axial_IDs)\n",
    "# metag_axial_IDs"
   ]
  },
  {
   "cell_type": "code",
   "execution_count": 17,
   "metadata": {},
   "outputs": [
    {
     "name": "stderr",
     "output_type": "stream",
     "text": [
      "Warning message:\n",
      "“The `printer` argument is deprecated as of rlang 0.3.0.\n",
      "This warning is displayed once per session.”"
     ]
    }
   ],
   "source": [
    "# Assign list of ERRs and corresponding Assembly_group name:\n",
    "metag_axial_IDs$Assembly_group <- paste(metag_axial_IDs$SampleID, metag_axial_IDs$Year, sep=\"-\")\n",
    "metag_axial_Assembly_List<- metag_axial_IDs %>%\n",
    "    group_by(Assembly_group) %>%\n",
    "    summarize(ERR_count=paste(length(unique(run_accession))),\n",
    "              FS_list=paste(unique(FS),collapse=\", \"),              \n",
    "              ERR_list=paste(unique(run_accession),collapse=\", \"))%>%\n",
    "    as.data.frame"
   ]
  },
  {
   "cell_type": "code",
   "execution_count": 18,
   "metadata": {},
   "outputs": [
    {
     "data": {
      "text/html": [
       "<table>\n",
       "<thead><tr><th scope=col>Assembly_group</th><th scope=col>ERR_count</th><th scope=col>FS_list</th><th scope=col>ERR_list</th></tr></thead>\n",
       "<tbody>\n",
       "\t<tr><td>Anemone-2013                                                                                                                                                                             </td><td>17                                                                                                                                                                                       </td><td>FS891                                                                                                                                                                                    </td><td>ERR694110, ERR694111, ERR694112, ERR694113, ERR694114, ERR694115, ERR694116, ERR694117, ERR694118, ERR694119, ERR694120, ERR694121, ERR694122, ERR694123, ERR694124, ERR694125, ERR694126</td></tr>\n",
       "\t<tr><td>Anemone-2014                                                                                                                                                                             </td><td>13                                                                                                                                                                                       </td><td>FS907                                                                                                                                                                                    </td><td>ERR1163105, ERR1163106, ERR1163107, ERR1163108, ERR1163109, ERR1163110, ERR1163111, ERR1163112, ERR1163113, ERR1163114, ERR1163115, ERR1163116, ERR1163117                               </td></tr>\n",
       "\t<tr><td>Anemone-2015                                                                                                                                                                             </td><td>1                                                                                                                                                                                        </td><td>FS914                                                                                                                                                                                    </td><td>ERR2021505                                                                                                                                                                               </td></tr>\n",
       "\t<tr><td>AnemonePlume-2015                                                                                                                                                                        </td><td>1                                                                                                                                                                                        </td><td>AnemonePlume                                                                                                                                                                             </td><td>ERR2021511                                                                                                                                                                               </td></tr>\n",
       "\t<tr><td>Background1500m-2015                                                                                                                                                                     </td><td>1                                                                                                                                                                                        </td><td>Background                                                                                                                                                                               </td><td>ERR2021513                                                                                                                                                                               </td></tr>\n",
       "\t<tr><td>CTD1200m-2014                                                                                                                                                                            </td><td>9                                                                                                                                                                                        </td><td>CTD1200                                                                                                                                                                                  </td><td>ERR1163068, ERR1163069, ERR1163070, ERR1163071, ERR1163072, ERR1163073, ERR1163074, ERR1163075, ERR1163076                                                                               </td></tr>\n",
       "</tbody>\n",
       "</table>\n"
      ],
      "text/latex": [
       "\\begin{tabular}{r|llll}\n",
       " Assembly\\_group & ERR\\_count & FS\\_list & ERR\\_list\\\\\n",
       "\\hline\n",
       "\t Anemone-2013                                                                                                                                                                              & 17                                                                                                                                                                                        & FS891                                                                                                                                                                                     & ERR694110, ERR694111, ERR694112, ERR694113, ERR694114, ERR694115, ERR694116, ERR694117, ERR694118, ERR694119, ERR694120, ERR694121, ERR694122, ERR694123, ERR694124, ERR694125, ERR694126\\\\\n",
       "\t Anemone-2014                                                                                                                                                                              & 13                                                                                                                                                                                        & FS907                                                                                                                                                                                     & ERR1163105, ERR1163106, ERR1163107, ERR1163108, ERR1163109, ERR1163110, ERR1163111, ERR1163112, ERR1163113, ERR1163114, ERR1163115, ERR1163116, ERR1163117                               \\\\\n",
       "\t Anemone-2015                                                                                                                                                                              & 1                                                                                                                                                                                         & FS914                                                                                                                                                                                     & ERR2021505                                                                                                                                                                               \\\\\n",
       "\t AnemonePlume-2015                                                                                                                                                                         & 1                                                                                                                                                                                         & AnemonePlume                                                                                                                                                                              & ERR2021511                                                                                                                                                                               \\\\\n",
       "\t Background1500m-2015                                                                                                                                                                      & 1                                                                                                                                                                                         & Background                                                                                                                                                                                & ERR2021513                                                                                                                                                                               \\\\\n",
       "\t CTD1200m-2014                                                                                                                                                                             & 9                                                                                                                                                                                         & CTD1200                                                                                                                                                                                   & ERR1163068, ERR1163069, ERR1163070, ERR1163071, ERR1163072, ERR1163073, ERR1163074, ERR1163075, ERR1163076                                                                               \\\\\n",
       "\\end{tabular}\n"
      ],
      "text/markdown": [
       "\n",
       "Assembly_group | ERR_count | FS_list | ERR_list | \n",
       "|---|---|---|---|---|---|\n",
       "| Anemone-2013                                                                                                                                                                              | 17                                                                                                                                                                                        | FS891                                                                                                                                                                                     | ERR694110, ERR694111, ERR694112, ERR694113, ERR694114, ERR694115, ERR694116, ERR694117, ERR694118, ERR694119, ERR694120, ERR694121, ERR694122, ERR694123, ERR694124, ERR694125, ERR694126 | \n",
       "| Anemone-2014                                                                                                                                                                              | 13                                                                                                                                                                                        | FS907                                                                                                                                                                                     | ERR1163105, ERR1163106, ERR1163107, ERR1163108, ERR1163109, ERR1163110, ERR1163111, ERR1163112, ERR1163113, ERR1163114, ERR1163115, ERR1163116, ERR1163117                                | \n",
       "| Anemone-2015                                                                                                                                                                              | 1                                                                                                                                                                                         | FS914                                                                                                                                                                                     | ERR2021505                                                                                                                                                                                | \n",
       "| AnemonePlume-2015                                                                                                                                                                         | 1                                                                                                                                                                                         | AnemonePlume                                                                                                                                                                              | ERR2021511                                                                                                                                                                                | \n",
       "| Background1500m-2015                                                                                                                                                                      | 1                                                                                                                                                                                         | Background                                                                                                                                                                                | ERR2021513                                                                                                                                                                                | \n",
       "| CTD1200m-2014                                                                                                                                                                             | 9                                                                                                                                                                                         | CTD1200                                                                                                                                                                                   | ERR1163068, ERR1163069, ERR1163070, ERR1163071, ERR1163072, ERR1163073, ERR1163074, ERR1163075, ERR1163076                                                                                | \n",
       "\n",
       "\n"
      ],
      "text/plain": [
       "  Assembly_group       ERR_count FS_list     \n",
       "1 Anemone-2013         17        FS891       \n",
       "2 Anemone-2014         13        FS907       \n",
       "3 Anemone-2015         1         FS914       \n",
       "4 AnemonePlume-2015    1         AnemonePlume\n",
       "5 Background1500m-2015 1         Background  \n",
       "6 CTD1200m-2014        9         CTD1200     \n",
       "  ERR_list                                                                                                                                                                                 \n",
       "1 ERR694110, ERR694111, ERR694112, ERR694113, ERR694114, ERR694115, ERR694116, ERR694117, ERR694118, ERR694119, ERR694120, ERR694121, ERR694122, ERR694123, ERR694124, ERR694125, ERR694126\n",
       "2 ERR1163105, ERR1163106, ERR1163107, ERR1163108, ERR1163109, ERR1163110, ERR1163111, ERR1163112, ERR1163113, ERR1163114, ERR1163115, ERR1163116, ERR1163117                               \n",
       "3 ERR2021505                                                                                                                                                                               \n",
       "4 ERR2021511                                                                                                                                                                               \n",
       "5 ERR2021513                                                                                                                                                                               \n",
       "6 ERR1163068, ERR1163069, ERR1163070, ERR1163071, ERR1163072, ERR1163073, ERR1163074, ERR1163075, ERR1163076                                                                               "
      ]
     },
     "metadata": {},
     "output_type": "display_data"
    }
   ],
   "source": [
    "head(metag_axial_Assembly_List)"
   ]
  },
  {
   "cell_type": "code",
   "execution_count": 19,
   "metadata": {},
   "outputs": [],
   "source": [
    "# Assign list of ERRs and corresponding Assembly_group name:\n",
    "metat_axial_IDs$Assembly_group <- paste(metat_axial_IDs$SampleID, metat_axial_IDs$Year, sep=\"-\")\n",
    "metat_axial_Assembly_List<- metat_axial_IDs %>%\n",
    "    group_by(Assembly_group) %>%\n",
    "    summarize(ERR_count=paste(length(unique(run_accession))),\n",
    "              FS_list=paste(unique(FS),collapse=\", \"),              \n",
    "              ERR_list=paste(unique(run_accession),collapse=\", \"))%>%\n",
    "    as.data.frame"
   ]
  },
  {
   "cell_type": "code",
   "execution_count": 20,
   "metadata": {},
   "outputs": [
    {
     "data": {
      "text/html": [
       "<table>\n",
       "<thead><tr><th scope=col>Assembly_group</th><th scope=col>ERR_count</th><th scope=col>FS_list</th><th scope=col>ERR_list</th></tr></thead>\n",
       "<tbody>\n",
       "\t<tr><td>Anemone-2013                                                                                                          </td><td>4                                                                                                                     </td><td>FS891                                                                                                                 </td><td>ERR694356, ERR694357, ERR694358, ERR694359                                                                            </td></tr>\n",
       "\t<tr><td>Anemone-2014                                                                                                          </td><td>8                                                                                                                     </td><td>FS907                                                                                                                 </td><td>ERR1163118, ERR1163119, ERR1163120, ERR1163121, ERR1163122, ERR1163123, ERR1163124, ERR2021515                        </td></tr>\n",
       "\t<tr><td>Anemone-2015                                                                                                          </td><td>1                                                                                                                     </td><td>FS914                                                                                                                 </td><td>ERR2021506                                                                                                            </td></tr>\n",
       "\t<tr><td>AnemonePlume-2015                                                                                                     </td><td>1                                                                                                                     </td><td>AnemonePlume                                                                                                          </td><td>ERR2021512                                                                                                            </td></tr>\n",
       "\t<tr><td>Background1500m-2015                                                                                                  </td><td>1                                                                                                                     </td><td>Background                                                                                                            </td><td>ERR2021514                                                                                                            </td></tr>\n",
       "\t<tr><td>CTD1200m-2014                                                                                                         </td><td>5                                                                                                                     </td><td>CTD1200                                                                                                               </td><td>ERR1163077, ERR1163078, ERR1163079, ERR1163080, ERR1163081                                                            </td></tr>\n",
       "\t<tr><td>Dependable-2013                                                                                                       </td><td>4                                                                                                                     </td><td>FS900                                                                                                                 </td><td>ERR694373, ERR694374, ERR694375, ERR694376                                                                            </td></tr>\n",
       "\t<tr><td>ElGuapo-2013                                                                                                          </td><td>7                                                                                                                     </td><td>FS896                                                                                                                 </td><td>ERR694360, ERR694361, ERR694362, ERR694363, ERR694364, ERR694365, ERR694366                                           </td></tr>\n",
       "\t<tr><td>Marker113-2013                                                                                                        </td><td>9                                                                                                                     </td><td>FS903                                                                                                                 </td><td>ERR694383, ERR694384, ERR694385, ERR694386, ERR694387, ERR694388, ERR694389, ERR694390, ERR694391                     </td></tr>\n",
       "\t<tr><td>Marker113-2014                                                                                                        </td><td>10                                                                                                                    </td><td>FS906                                                                                                                 </td><td>ERR1163095, ERR1163096, ERR1163097, ERR1163098, ERR1163099, ERR1163100, ERR1163101, ERR1163102, ERR1163103, ERR1163104</td></tr>\n",
       "\t<tr><td>Marker113-2015                                                                                                        </td><td>1                                                                                                                     </td><td>FS915                                                                                                                 </td><td>ERR2021508                                                                                                            </td></tr>\n",
       "\t<tr><td>Marker33-2013                                                                                                         </td><td>6                                                                                                                     </td><td>FS904                                                                                                                 </td><td>ERR694377, ERR694378, ERR694379, ERR694380, ERR694381, ERR694382                                                      </td></tr>\n",
       "\t<tr><td>Marker33-2014                                                                                                         </td><td>8                                                                                                                     </td><td>FS908                                                                                                                 </td><td>ERR1163136, ERR1163137, ERR1163138, ERR1163139, ERR1163140, ERR1163141, ERR1163142, ERR1163143                        </td></tr>\n",
       "\t<tr><td>Marker33-2015                                                                                                         </td><td>1                                                                                                                     </td><td>FS917                                                                                                                 </td><td>ERR2021504                                                                                                            </td></tr>\n",
       "\t<tr><td>N3Area-2013                                                                                                           </td><td>6                                                                                                                     </td><td>FS898                                                                                                                 </td><td>ERR694367, ERR694368, ERR694369, ERR694370, ERR694371, ERR694372                                                      </td></tr>\n",
       "\t<tr><td>NorthRiftZone-2015                                                                                                    </td><td>1                                                                                                                     </td><td>FS918                                                                                                                 </td><td>ERR2021510                                                                                                            </td></tr>\n",
       "</tbody>\n",
       "</table>\n"
      ],
      "text/latex": [
       "\\begin{tabular}{r|llll}\n",
       " Assembly\\_group & ERR\\_count & FS\\_list & ERR\\_list\\\\\n",
       "\\hline\n",
       "\t Anemone-2013                                                                                                           & 4                                                                                                                      & FS891                                                                                                                  & ERR694356, ERR694357, ERR694358, ERR694359                                                                            \\\\\n",
       "\t Anemone-2014                                                                                                           & 8                                                                                                                      & FS907                                                                                                                  & ERR1163118, ERR1163119, ERR1163120, ERR1163121, ERR1163122, ERR1163123, ERR1163124, ERR2021515                        \\\\\n",
       "\t Anemone-2015                                                                                                           & 1                                                                                                                      & FS914                                                                                                                  & ERR2021506                                                                                                            \\\\\n",
       "\t AnemonePlume-2015                                                                                                      & 1                                                                                                                      & AnemonePlume                                                                                                           & ERR2021512                                                                                                            \\\\\n",
       "\t Background1500m-2015                                                                                                   & 1                                                                                                                      & Background                                                                                                             & ERR2021514                                                                                                            \\\\\n",
       "\t CTD1200m-2014                                                                                                          & 5                                                                                                                      & CTD1200                                                                                                                & ERR1163077, ERR1163078, ERR1163079, ERR1163080, ERR1163081                                                            \\\\\n",
       "\t Dependable-2013                                                                                                        & 4                                                                                                                      & FS900                                                                                                                  & ERR694373, ERR694374, ERR694375, ERR694376                                                                            \\\\\n",
       "\t ElGuapo-2013                                                                                                           & 7                                                                                                                      & FS896                                                                                                                  & ERR694360, ERR694361, ERR694362, ERR694363, ERR694364, ERR694365, ERR694366                                           \\\\\n",
       "\t Marker113-2013                                                                                                         & 9                                                                                                                      & FS903                                                                                                                  & ERR694383, ERR694384, ERR694385, ERR694386, ERR694387, ERR694388, ERR694389, ERR694390, ERR694391                     \\\\\n",
       "\t Marker113-2014                                                                                                         & 10                                                                                                                     & FS906                                                                                                                  & ERR1163095, ERR1163096, ERR1163097, ERR1163098, ERR1163099, ERR1163100, ERR1163101, ERR1163102, ERR1163103, ERR1163104\\\\\n",
       "\t Marker113-2015                                                                                                         & 1                                                                                                                      & FS915                                                                                                                  & ERR2021508                                                                                                            \\\\\n",
       "\t Marker33-2013                                                                                                          & 6                                                                                                                      & FS904                                                                                                                  & ERR694377, ERR694378, ERR694379, ERR694380, ERR694381, ERR694382                                                      \\\\\n",
       "\t Marker33-2014                                                                                                          & 8                                                                                                                      & FS908                                                                                                                  & ERR1163136, ERR1163137, ERR1163138, ERR1163139, ERR1163140, ERR1163141, ERR1163142, ERR1163143                        \\\\\n",
       "\t Marker33-2015                                                                                                          & 1                                                                                                                      & FS917                                                                                                                  & ERR2021504                                                                                                            \\\\\n",
       "\t N3Area-2013                                                                                                            & 6                                                                                                                      & FS898                                                                                                                  & ERR694367, ERR694368, ERR694369, ERR694370, ERR694371, ERR694372                                                      \\\\\n",
       "\t NorthRiftZone-2015                                                                                                     & 1                                                                                                                      & FS918                                                                                                                  & ERR2021510                                                                                                            \\\\\n",
       "\\end{tabular}\n"
      ],
      "text/markdown": [
       "\n",
       "Assembly_group | ERR_count | FS_list | ERR_list | \n",
       "|---|---|---|---|---|---|---|---|---|---|---|---|---|---|---|---|\n",
       "| Anemone-2013                                                                                                           | 4                                                                                                                      | FS891                                                                                                                  | ERR694356, ERR694357, ERR694358, ERR694359                                                                             | \n",
       "| Anemone-2014                                                                                                           | 8                                                                                                                      | FS907                                                                                                                  | ERR1163118, ERR1163119, ERR1163120, ERR1163121, ERR1163122, ERR1163123, ERR1163124, ERR2021515                         | \n",
       "| Anemone-2015                                                                                                           | 1                                                                                                                      | FS914                                                                                                                  | ERR2021506                                                                                                             | \n",
       "| AnemonePlume-2015                                                                                                      | 1                                                                                                                      | AnemonePlume                                                                                                           | ERR2021512                                                                                                             | \n",
       "| Background1500m-2015                                                                                                   | 1                                                                                                                      | Background                                                                                                             | ERR2021514                                                                                                             | \n",
       "| CTD1200m-2014                                                                                                          | 5                                                                                                                      | CTD1200                                                                                                                | ERR1163077, ERR1163078, ERR1163079, ERR1163080, ERR1163081                                                             | \n",
       "| Dependable-2013                                                                                                        | 4                                                                                                                      | FS900                                                                                                                  | ERR694373, ERR694374, ERR694375, ERR694376                                                                             | \n",
       "| ElGuapo-2013                                                                                                           | 7                                                                                                                      | FS896                                                                                                                  | ERR694360, ERR694361, ERR694362, ERR694363, ERR694364, ERR694365, ERR694366                                            | \n",
       "| Marker113-2013                                                                                                         | 9                                                                                                                      | FS903                                                                                                                  | ERR694383, ERR694384, ERR694385, ERR694386, ERR694387, ERR694388, ERR694389, ERR694390, ERR694391                      | \n",
       "| Marker113-2014                                                                                                         | 10                                                                                                                     | FS906                                                                                                                  | ERR1163095, ERR1163096, ERR1163097, ERR1163098, ERR1163099, ERR1163100, ERR1163101, ERR1163102, ERR1163103, ERR1163104 | \n",
       "| Marker113-2015                                                                                                         | 1                                                                                                                      | FS915                                                                                                                  | ERR2021508                                                                                                             | \n",
       "| Marker33-2013                                                                                                          | 6                                                                                                                      | FS904                                                                                                                  | ERR694377, ERR694378, ERR694379, ERR694380, ERR694381, ERR694382                                                       | \n",
       "| Marker33-2014                                                                                                          | 8                                                                                                                      | FS908                                                                                                                  | ERR1163136, ERR1163137, ERR1163138, ERR1163139, ERR1163140, ERR1163141, ERR1163142, ERR1163143                         | \n",
       "| Marker33-2015                                                                                                          | 1                                                                                                                      | FS917                                                                                                                  | ERR2021504                                                                                                             | \n",
       "| N3Area-2013                                                                                                            | 6                                                                                                                      | FS898                                                                                                                  | ERR694367, ERR694368, ERR694369, ERR694370, ERR694371, ERR694372                                                       | \n",
       "| NorthRiftZone-2015                                                                                                     | 1                                                                                                                      | FS918                                                                                                                  | ERR2021510                                                                                                             | \n",
       "\n",
       "\n"
      ],
      "text/plain": [
       "   Assembly_group       ERR_count FS_list     \n",
       "1  Anemone-2013         4         FS891       \n",
       "2  Anemone-2014         8         FS907       \n",
       "3  Anemone-2015         1         FS914       \n",
       "4  AnemonePlume-2015    1         AnemonePlume\n",
       "5  Background1500m-2015 1         Background  \n",
       "6  CTD1200m-2014        5         CTD1200     \n",
       "7  Dependable-2013      4         FS900       \n",
       "8  ElGuapo-2013         7         FS896       \n",
       "9  Marker113-2013       9         FS903       \n",
       "10 Marker113-2014       10        FS906       \n",
       "11 Marker113-2015       1         FS915       \n",
       "12 Marker33-2013        6         FS904       \n",
       "13 Marker33-2014        8         FS908       \n",
       "14 Marker33-2015        1         FS917       \n",
       "15 N3Area-2013          6         FS898       \n",
       "16 NorthRiftZone-2015   1         FS918       \n",
       "   ERR_list                                                                                                              \n",
       "1  ERR694356, ERR694357, ERR694358, ERR694359                                                                            \n",
       "2  ERR1163118, ERR1163119, ERR1163120, ERR1163121, ERR1163122, ERR1163123, ERR1163124, ERR2021515                        \n",
       "3  ERR2021506                                                                                                            \n",
       "4  ERR2021512                                                                                                            \n",
       "5  ERR2021514                                                                                                            \n",
       "6  ERR1163077, ERR1163078, ERR1163079, ERR1163080, ERR1163081                                                            \n",
       "7  ERR694373, ERR694374, ERR694375, ERR694376                                                                            \n",
       "8  ERR694360, ERR694361, ERR694362, ERR694363, ERR694364, ERR694365, ERR694366                                           \n",
       "9  ERR694383, ERR694384, ERR694385, ERR694386, ERR694387, ERR694388, ERR694389, ERR694390, ERR694391                     \n",
       "10 ERR1163095, ERR1163096, ERR1163097, ERR1163098, ERR1163099, ERR1163100, ERR1163101, ERR1163102, ERR1163103, ERR1163104\n",
       "11 ERR2021508                                                                                                            \n",
       "12 ERR694377, ERR694378, ERR694379, ERR694380, ERR694381, ERR694382                                                      \n",
       "13 ERR1163136, ERR1163137, ERR1163138, ERR1163139, ERR1163140, ERR1163141, ERR1163142, ERR1163143                        \n",
       "14 ERR2021504                                                                                                            \n",
       "15 ERR694367, ERR694368, ERR694369, ERR694370, ERR694371, ERR694372                                                      \n",
       "16 ERR2021510                                                                                                            "
      ]
     },
     "metadata": {},
     "output_type": "display_data"
    }
   ],
   "source": [
    "metat_axial_Assembly_List"
   ]
  },
  {
   "cell_type": "code",
   "execution_count": 21,
   "metadata": {},
   "outputs": [],
   "source": [
    "# Input into config file to designate Assembly group\n",
    "write.table(metag_axial_Assembly_List, file=\"axial_metaG_Assembly_List.txt\", quote=FALSE, sep=\"\\t\", row.names=FALSE)\n",
    "write.table(metat_axial_Assembly_List, file=\"axial_metaT_Assembly_List.txt\", quote=FALSE, sep=\"\\t\", row.names=FALSE)"
   ]
  },
  {
   "cell_type": "code",
   "execution_count": 22,
   "metadata": {},
   "outputs": [],
   "source": [
    "# Now generate test files:\n",
    "# subset Anemone\n",
    "metag_axial_TEST <- subset(metag_axial_IDs, (grepl(\"Marker33\", metag_axial_IDs$library_name) & Year %in% \"2013\"))\n",
    "metat_axial_TEST <- subset(metat_axial_IDs, (grepl(\"Marker33\", metat_axial_IDs$library_name) & Year %in% \"2013\"))\n",
    "# head(metag_axial_TEST)\n",
    "# dim(metag_axial_TEST)\n",
    "# head(metat_axial_TEST)\n",
    "# dim(metat_axial_TEST)\n",
    "write.table(metag_axial_TEST, file=\"axial_metaG_TEST.txt\", quote=FALSE, sep=\"\\t\", row.names=FALSE)\n",
    "write.table(metat_axial_TEST, file=\"axial_metaT_TEST.txt\", quote=FALSE, sep=\"\\t\", row.names=FALSE)"
   ]
  },
  {
   "cell_type": "code",
   "execution_count": 23,
   "metadata": {},
   "outputs": [],
   "source": [
    "# Assign list of ERRs and corresponding Assembly_group name:\n",
    "metag_axial_TEST$Assembly_group <- paste(metag_axial_TEST$SampleID, metag_axial_TEST$Year, sep=\"-\")\n",
    "metag_axial_Assembly_List_TEST<- metag_axial_TEST %>%\n",
    "    group_by(Assembly_group) %>%\n",
    "    summarize(ERR_count=paste(length(unique(run_accession))),\n",
    "              FS_list=paste(unique(FS),collapse=\", \"),              \n",
    "              ERR_list=paste(unique(run_accession),collapse=\", \"))%>%\n",
    "    as.data.frame\n",
    "#\n",
    "# Assign list of ERRs and corresponding Assembly_group name:\n",
    "metat_axial_TEST$Assembly_group <- paste(metat_axial_TEST$SampleID, metat_axial_TEST$Year, sep=\"-\")\n",
    "metat_axial_Assembly_List_TEST<- metat_axial_TEST %>%\n",
    "    group_by(Assembly_group) %>%\n",
    "    summarize(ERR_count=paste(length(unique(run_accession))),\n",
    "              FS_list=paste(unique(FS),collapse=\", \"),              \n",
    "              ERR_list=paste(unique(run_accession),collapse=\", \"))%>%\n",
    "    as.data.frame\n",
    "#\n",
    "write.table(metag_axial_Assembly_List_TEST, file=\"axial_metaG_Assembly_List_TEST.txt\", quote=FALSE, sep=\"\\t\", row.names=FALSE)\n",
    "write.table(metat_axial_Assembly_List_TEST, file=\"axial_metaT_Assembly_List_TEST.txt\", quote=FALSE, sep=\"\\t\", row.names=FALSE)"
   ]
  },
  {
   "cell_type": "code",
   "execution_count": 24,
   "metadata": {},
   "outputs": [],
   "source": [
    "# Separate metagenomic and metatranscriptomic reads\n",
    "#\n",
    "# Get list of PRJEB and ERR lists for metaG and metaT\n",
    "tmp_metag<-data.frame(metag_axial_IDs$study_accession, metag_axial_IDs$run_accession)\n",
    "tmp_metat<-data.frame(metat_axial_IDs$study_accession, metat_axial_IDs$run_accession)"
   ]
  },
  {
   "cell_type": "code",
   "execution_count": 25,
   "metadata": {},
   "outputs": [
    {
     "data": {
      "text/html": [
       "<ol class=list-inline>\n",
       "\t<li>'mv PRJEB7866/ERR694110 /vortexfs1/omics/huber/shu/axial/raw_data/axial_metaG/'</li>\n",
       "\t<li>'mv PRJEB7866/ERR694111 /vortexfs1/omics/huber/shu/axial/raw_data/axial_metaG/'</li>\n",
       "\t<li>'mv PRJEB7866/ERR694112 /vortexfs1/omics/huber/shu/axial/raw_data/axial_metaG/'</li>\n",
       "\t<li>'mv PRJEB7866/ERR694113 /vortexfs1/omics/huber/shu/axial/raw_data/axial_metaG/'</li>\n",
       "\t<li>'mv PRJEB7866/ERR694114 /vortexfs1/omics/huber/shu/axial/raw_data/axial_metaG/'</li>\n",
       "\t<li>'mv PRJEB7866/ERR694115 /vortexfs1/omics/huber/shu/axial/raw_data/axial_metaG/'</li>\n",
       "</ol>\n"
      ],
      "text/latex": [
       "\\begin{enumerate*}\n",
       "\\item 'mv PRJEB7866/ERR694110 /vortexfs1/omics/huber/shu/axial/raw\\_data/axial\\_metaG/'\n",
       "\\item 'mv PRJEB7866/ERR694111 /vortexfs1/omics/huber/shu/axial/raw\\_data/axial\\_metaG/'\n",
       "\\item 'mv PRJEB7866/ERR694112 /vortexfs1/omics/huber/shu/axial/raw\\_data/axial\\_metaG/'\n",
       "\\item 'mv PRJEB7866/ERR694113 /vortexfs1/omics/huber/shu/axial/raw\\_data/axial\\_metaG/'\n",
       "\\item 'mv PRJEB7866/ERR694114 /vortexfs1/omics/huber/shu/axial/raw\\_data/axial\\_metaG/'\n",
       "\\item 'mv PRJEB7866/ERR694115 /vortexfs1/omics/huber/shu/axial/raw\\_data/axial\\_metaG/'\n",
       "\\end{enumerate*}\n"
      ],
      "text/markdown": [
       "1. 'mv PRJEB7866/ERR694110 /vortexfs1/omics/huber/shu/axial/raw_data/axial_metaG/'\n",
       "2. 'mv PRJEB7866/ERR694111 /vortexfs1/omics/huber/shu/axial/raw_data/axial_metaG/'\n",
       "3. 'mv PRJEB7866/ERR694112 /vortexfs1/omics/huber/shu/axial/raw_data/axial_metaG/'\n",
       "4. 'mv PRJEB7866/ERR694113 /vortexfs1/omics/huber/shu/axial/raw_data/axial_metaG/'\n",
       "5. 'mv PRJEB7866/ERR694114 /vortexfs1/omics/huber/shu/axial/raw_data/axial_metaG/'\n",
       "6. 'mv PRJEB7866/ERR694115 /vortexfs1/omics/huber/shu/axial/raw_data/axial_metaG/'\n",
       "\n",
       "\n"
      ],
      "text/plain": [
       "[1] \"mv PRJEB7866/ERR694110 /vortexfs1/omics/huber/shu/axial/raw_data/axial_metaG/\"\n",
       "[2] \"mv PRJEB7866/ERR694111 /vortexfs1/omics/huber/shu/axial/raw_data/axial_metaG/\"\n",
       "[3] \"mv PRJEB7866/ERR694112 /vortexfs1/omics/huber/shu/axial/raw_data/axial_metaG/\"\n",
       "[4] \"mv PRJEB7866/ERR694113 /vortexfs1/omics/huber/shu/axial/raw_data/axial_metaG/\"\n",
       "[5] \"mv PRJEB7866/ERR694114 /vortexfs1/omics/huber/shu/axial/raw_data/axial_metaG/\"\n",
       "[6] \"mv PRJEB7866/ERR694115 /vortexfs1/omics/huber/shu/axial/raw_data/axial_metaG/\""
      ]
     },
     "metadata": {},
     "output_type": "display_data"
    }
   ],
   "source": [
    "metag_out <- paste(\"mv \", tmp_metag$metag_axial_IDs.study_accession, \"/\",tmp_metag$metag_axial_IDs.run_accession, \" /vortexfs1/omics/huber/shu/axial/raw_data/axial_metaG/\", sep=\"\")\n",
    "metat_out <- paste(\"mv \", tmp_metat$metat_axial_IDs.study_accession, \"/\",tmp_metat$metat_axial_IDs.run_accession, \" /vortexfs1/omics/huber/shu/axial/raw_data/axial_metaT/\", sep=\"\")\n",
    "head(metag_out)"
   ]
  },
  {
   "cell_type": "code",
   "execution_count": 26,
   "metadata": {},
   "outputs": [],
   "source": [
    "write.table(metag_out, file=\"metaG_mv.sh\", quote=FALSE, sep=\"\\t\", row.names=FALSE, col.names = FALSE)\n",
    "write.table(metat_out, file=\"metaT_mv.sh\", quote=FALSE, sep=\"\\t\", row.names=FALSE, col.names = FALSE)"
   ]
  },
  {
   "cell_type": "code",
   "execution_count": 27,
   "metadata": {},
   "outputs": [],
   "source": [
    "# last updated Oct 12, 2019"
   ]
  }
 ],
 "metadata": {
  "kernelspec": {
   "display_name": "R",
   "language": "R",
   "name": "ir"
  },
  "language_info": {
   "codemirror_mode": "r",
   "file_extension": ".r",
   "mimetype": "text/x-r-source",
   "name": "R",
   "pygments_lexer": "r",
   "version": "3.5.1"
  }
 },
 "nbformat": 4,
 "nbformat_minor": 2
}
